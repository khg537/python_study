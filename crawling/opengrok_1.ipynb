{
 "cells": [
  {
   "cell_type": "code",
   "execution_count": 1,
   "id": "fb5cd238",
   "metadata": {},
   "outputs": [],
   "source": [
    "import pandas as pd\n",
    "import re\n",
    "\n",
    "data_list = ['/lamp_r_release_sm7250/non_HLOS/modem_proc/lge_product/lge_pcas/src/', 'H A D', 'pcas_data_feature_loader_for_dcm_dpac.c', '55 PCAS_ENABLE_FEATURE_SIM1(LGP_DATA_LEGACY_FAST_DORMANCY_OFF);\\r', 'H A D', 'pcas_data_feature_loader_for_mpcs.c', '35 PCAS_ENABLE_FEATURE_SIM1(LGP_DATA_LEGACY_FAST_DORMANCY_OFF);\\r', 'H A D', 'pcas_data_feature_loader_for_tmus.c', '35 PCAS_ENABLE_FEATURE_SIM1(LGP_DATA_LEGACY_FAST_DORMANCY_OFF);\\r', 'H A D', 'pcas_data_feature_loader_for_global_com.c', '54 PCAS_ENABLE_FEATURE_SIM1(LGP_DATA_LEGACY_FAST_DORMANCY_OFF);\\r', '/lamp_r_release_sm7250/non_HLOS_BITRA/modem_proc/lge_product/lge_pcas/src/', 'H A D', 'pcas_data_feature_loader_for_dcm_dpac.c', '55 PCAS_ENABLE_FEATURE_SIM1(LGP_DATA_LEGACY_FAST_DORMANCY_OFF);\\r', 'H A D', 'pcas_data_feature_loader_for_global_com.c', '54 PCAS_ENABLE_FEATURE_SIM1(LGP_DATA_LEGACY_FAST_DORMANCY_OFF);\\r', 'H A D', 'pcas_data_feature_loader_for_mpcs.c', '35 PCAS_ENABLE_FEATURE_SIM1(LGP_DATA_LEGACY_FAST_DORMANCY_OFF);\\r', 'H A D', 'pcas_data_feature_loader_for_tmus.c', '35 PCAS_ENABLE_FEATURE_SIM1(LGP_DATA_LEGACY_FAST_DORMANCY_OFF);\\r', '/lamp_r_release_sm7250/non_HLOS/modem_proc_HI25/modem_proc/lge_product/lge_pcas/src/', 'H A D', 'pcas_data_feature_loader_for_dcm_dpac.c', '55 PCAS_ENABLE_FEATURE_SIM1(LGP_DATA_LEGACY_FAST_DORMANCY_OFF);\\r', 'H A D', 'pcas_data_feature_loader_for_global_com.c', '54 PCAS_ENABLE_FEATURE_SIM1(LGP_DATA_LEGACY_FAST_DORMANCY_OFF);\\r', 'H A D', 'pcas_data_feature_loader_for_mpcs.c', '35 PCAS_ENABLE_FEATURE_SIM1(LGP_DATA_LEGACY_FAST_DORMANCY_OFF);\\r', 'H A D', 'pcas_data_feature_loader_for_tmus.c', '35 PCAS_ENABLE_FEATURE_SIM1(LGP_DATA_LEGACY_FAST_DORMANCY_OFF);\\r', '/lamp_r_release_sm7250/non_HLOS/modem_proc/build/cust/', 'H A D', 'pcas_data_feature_loader.h', '52 #define\\tLGP_DATA_LEGACY_FAST_DORMANCY_OFF (PCAS_DATA_FEATURE_MIN + 47) macro ', 'H A D', 'cust_lgdata_cdma_na.h', '755 #define LGP_DATA_LEGACY_FAST_DORMANCY_OFF macro ', '/lamp_r_release_sm7250/non_HLOS_BITRA/modem_proc/build/cust/', 'H A D', 'pcas_data_feature_loader.h', '52 #define\\tLGP_DATA_LEGACY_FAST_DORMANCY_OFF (PCAS_DATA_FEATURE_MIN + 47) macro ', 'H A D', 'cust_lgdata_cdma_na.h', '755 #define LGP_DATA_LEGACY_FAST_DORMANCY_OFF macro ', '/lamp_r_release_sm7250/non_HLOS/modem_proc_HI25/modem_proc/build/cust/', 'H A D', 'pcas_data_feature_loader.h', '52 #define\\tLGP_DATA_LEGACY_FAST_DORMANCY_OFF (PCAS_DATA_FEATURE_MIN + 47) macro ', 'H A D', 'cust_lgdata_cdma_na.h', '755 #define LGP_DATA_LEGACY_FAST_DORMANCY_OFF macro ', '/lamp_r_release_sm7250/non_HLOS_BITRA/modem_proc/datamodem/3gpp/ps/src/', 'H A D', 'ds_3gpp_bearer_context_external.c', '72 //#ifdef LGP_DATA_LEGACY_FAST_DORMANCY_OFF79 //#ifdef LGP_DATA_LEGACY_FAST_DORMANCY_OFF420 //#ifdef LGP_DATA_LEGACY_FAST_DORMANCY_OFF475 \\t//#ifdef LGP_DATA_LEGACY_FAST_DORMANCY_OFF476 \\t if(pcas_feature_supported(LGP_DATA_LEGACY_FAST_DORMANCY_OFF, PCAS_AS_ID_0))', '/lamp_r_release_sm7250/non_HLOS/modem_proc/datamodem/3gpp/ps/src/', 'H A D', 'ds_3gpp_bearer_context_external.c', '71 //#ifdef LGP_DATA_LEGACY_FAST_DORMANCY_OFF412 //#ifdef LGP_DATA_LEGACY_FAST_DORMANCY_OFF467 \\t//#ifdef LGP_DATA_LEGACY_FAST_DORMANCY_OFF468 \\t if(pcas_feature_supported(LGP_DATA_LEGACY_FAST_DORMANCY_OFF, PCAS_AS_ID_0))', '/lamp_r_release_sm7250/non_HLOS/modem_proc_HI25/modem_proc/datamodem/3gpp/ps/src/', 'H A D', 'ds_3gpp_bearer_context_external.c', '71 //#ifdef LGP_DATA_LEGACY_FAST_DORMANCY_OFF412 //#ifdef LGP_DATA_LEGACY_FAST_DORMANCY_OFF467 \\t//#ifdef LGP_DATA_LEGACY_FAST_DORMANCY_OFF468 \\t if(pcas_feature_supported(LGP_DATA_LEGACY_FAST_DORMANCY_OFF, PCAS_AS_ID_0))', '/lamp_r_release_sm7250/android/frameworks/base/core/java/com/lge/lgdata/', 'H A D', 'LGDataFeatureSets.java', '1327 ON(LGDataRuntimeFeature.LGP_DATA_LEGACY_FAST_DORMANCY_OFF);', 'H A D', 'LGDataRuntimeFeature.java', '1978 LGP_DATA_LEGACY_FAST_DORMANCY_OFF, enum constant in enum:LGDataRuntimeFeature ', 'H A D', 'patchCodeIdTable.txt', '301 # LGP_DATA_LEGACY_FAST_DORMANCY_OFF ', '/lamp_r_release_sm7250/non_HLOS/modem_proc/datamodem/interface/qmidata/src/', 'H A D', 'ds_qmi_wds.c', '4488 //#ifdef LGP_DATA_LEGACY_FAST_DORMANCY_OFF28639 //#ifdef LGP_DATA_LEGACY_FAST_DORMANCY_OFF[all...]']\n"
   ]
  },
  {
   "cell_type": "code",
   "execution_count": 2,
   "id": "eba6b91c",
   "metadata": {},
   "outputs": [],
   "source": [
    "len_list = len(data_list)"
   ]
  },
  {
   "cell_type": "code",
   "execution_count": 3,
   "id": "4832a10a",
   "metadata": {},
   "outputs": [],
   "source": [
    "sub_list = []\n",
    "tot_list = []\n",
    "\n",
    "for i in range(len_list):\n",
    "    if data_list[i] == 'H A D':\n",
    "        continue\n",
    "#     string cleaning\n",
    "    clean_list= re.compile(r'\\r|\\t')\n",
    "    data_list[i] = clean_list.sub('',data_list[i])\n",
    "    \n",
    "    if i != 0 and data_list[i][0] == r'/' :\n",
    "        tot_list.append(sub_list)\n",
    "        sub_list = []\n",
    "    sub_list.append(data_list[i])\n",
    "    "
   ]
  },
  {
   "cell_type": "code",
   "execution_count": 4,
   "id": "31660c2c",
   "metadata": {},
   "outputs": [
    {
     "data": {
      "text/plain": [
       "10"
      ]
     },
     "execution_count": 4,
     "metadata": {},
     "output_type": "execute_result"
    }
   ],
   "source": [
    "len(tot_list)"
   ]
  },
  {
   "cell_type": "code",
   "execution_count": 5,
   "id": "a3955c2d",
   "metadata": {},
   "outputs": [
    {
     "data": {
      "text/plain": [
       "['/lamp_r_release_sm7250/non_HLOS_BITRA/modem_proc/lge_product/lge_pcas/src/',\n",
       " 'pcas_data_feature_loader_for_dcm_dpac.c',\n",
       " '55 PCAS_ENABLE_FEATURE_SIM1(LGP_DATA_LEGACY_FAST_DORMANCY_OFF);',\n",
       " 'pcas_data_feature_loader_for_global_com.c',\n",
       " '54 PCAS_ENABLE_FEATURE_SIM1(LGP_DATA_LEGACY_FAST_DORMANCY_OFF);',\n",
       " 'pcas_data_feature_loader_for_mpcs.c',\n",
       " '35 PCAS_ENABLE_FEATURE_SIM1(LGP_DATA_LEGACY_FAST_DORMANCY_OFF);',\n",
       " 'pcas_data_feature_loader_for_tmus.c',\n",
       " '35 PCAS_ENABLE_FEATURE_SIM1(LGP_DATA_LEGACY_FAST_DORMANCY_OFF);']"
      ]
     },
     "execution_count": 5,
     "metadata": {},
     "output_type": "execute_result"
    }
   ],
   "source": [
    "tot_list[1]"
   ]
  },
  {
   "cell_type": "code",
   "execution_count": 6,
   "id": "27f147f5",
   "metadata": {},
   "outputs": [
    {
     "data": {
      "text/plain": [
       "[['/lamp_r_release_sm7250/non_HLOS/modem_proc/lge_product/lge_pcas/src/pcas_data_feature_loader_for_dcm_dpac.c',\n",
       "  '55 PCAS_ENABLE_FEATURE_SIM1(LGP_DATA_LEGACY_FAST_DORMANCY_OFF);',\n",
       "  '/lamp_r_release_sm7250/non_HLOS/modem_proc/lge_product/lge_pcas/src/pcas_data_feature_loader_for_mpcs.c',\n",
       "  '35 PCAS_ENABLE_FEATURE_SIM1(LGP_DATA_LEGACY_FAST_DORMANCY_OFF);',\n",
       "  '/lamp_r_release_sm7250/non_HLOS/modem_proc/lge_product/lge_pcas/src/pcas_data_feature_loader_for_tmus.c',\n",
       "  '35 PCAS_ENABLE_FEATURE_SIM1(LGP_DATA_LEGACY_FAST_DORMANCY_OFF);',\n",
       "  '/lamp_r_release_sm7250/non_HLOS/modem_proc/lge_product/lge_pcas/src/pcas_data_feature_loader_for_global_com.c',\n",
       "  '54 PCAS_ENABLE_FEATURE_SIM1(LGP_DATA_LEGACY_FAST_DORMANCY_OFF);'],\n",
       " ['/lamp_r_release_sm7250/non_HLOS_BITRA/modem_proc/lge_product/lge_pcas/src/pcas_data_feature_loader_for_dcm_dpac.c',\n",
       "  '55 PCAS_ENABLE_FEATURE_SIM1(LGP_DATA_LEGACY_FAST_DORMANCY_OFF);',\n",
       "  '/lamp_r_release_sm7250/non_HLOS_BITRA/modem_proc/lge_product/lge_pcas/src/pcas_data_feature_loader_for_global_com.c',\n",
       "  '54 PCAS_ENABLE_FEATURE_SIM1(LGP_DATA_LEGACY_FAST_DORMANCY_OFF);',\n",
       "  '/lamp_r_release_sm7250/non_HLOS_BITRA/modem_proc/lge_product/lge_pcas/src/pcas_data_feature_loader_for_mpcs.c',\n",
       "  '35 PCAS_ENABLE_FEATURE_SIM1(LGP_DATA_LEGACY_FAST_DORMANCY_OFF);',\n",
       "  '/lamp_r_release_sm7250/non_HLOS_BITRA/modem_proc/lge_product/lge_pcas/src/pcas_data_feature_loader_for_tmus.c',\n",
       "  '35 PCAS_ENABLE_FEATURE_SIM1(LGP_DATA_LEGACY_FAST_DORMANCY_OFF);'],\n",
       " ['/lamp_r_release_sm7250/non_HLOS/modem_proc_HI25/modem_proc/lge_product/lge_pcas/src/pcas_data_feature_loader_for_dcm_dpac.c',\n",
       "  '55 PCAS_ENABLE_FEATURE_SIM1(LGP_DATA_LEGACY_FAST_DORMANCY_OFF);',\n",
       "  '/lamp_r_release_sm7250/non_HLOS/modem_proc_HI25/modem_proc/lge_product/lge_pcas/src/pcas_data_feature_loader_for_global_com.c',\n",
       "  '54 PCAS_ENABLE_FEATURE_SIM1(LGP_DATA_LEGACY_FAST_DORMANCY_OFF);',\n",
       "  '/lamp_r_release_sm7250/non_HLOS/modem_proc_HI25/modem_proc/lge_product/lge_pcas/src/pcas_data_feature_loader_for_mpcs.c',\n",
       "  '35 PCAS_ENABLE_FEATURE_SIM1(LGP_DATA_LEGACY_FAST_DORMANCY_OFF);',\n",
       "  '/lamp_r_release_sm7250/non_HLOS/modem_proc_HI25/modem_proc/lge_product/lge_pcas/src/pcas_data_feature_loader_for_tmus.c',\n",
       "  '35 PCAS_ENABLE_FEATURE_SIM1(LGP_DATA_LEGACY_FAST_DORMANCY_OFF);'],\n",
       " ['/lamp_r_release_sm7250/non_HLOS/modem_proc/build/cust/pcas_data_feature_loader.h',\n",
       "  '52 #defineLGP_DATA_LEGACY_FAST_DORMANCY_OFF (PCAS_DATA_FEATURE_MIN + 47) macro ',\n",
       "  '/lamp_r_release_sm7250/non_HLOS/modem_proc/build/cust/cust_lgdata_cdma_na.h',\n",
       "  '755 #define LGP_DATA_LEGACY_FAST_DORMANCY_OFF macro '],\n",
       " ['/lamp_r_release_sm7250/non_HLOS_BITRA/modem_proc/build/cust/pcas_data_feature_loader.h',\n",
       "  '52 #defineLGP_DATA_LEGACY_FAST_DORMANCY_OFF (PCAS_DATA_FEATURE_MIN + 47) macro ',\n",
       "  '/lamp_r_release_sm7250/non_HLOS_BITRA/modem_proc/build/cust/cust_lgdata_cdma_na.h',\n",
       "  '755 #define LGP_DATA_LEGACY_FAST_DORMANCY_OFF macro '],\n",
       " ['/lamp_r_release_sm7250/non_HLOS/modem_proc_HI25/modem_proc/build/cust/pcas_data_feature_loader.h',\n",
       "  '52 #defineLGP_DATA_LEGACY_FAST_DORMANCY_OFF (PCAS_DATA_FEATURE_MIN + 47) macro ',\n",
       "  '/lamp_r_release_sm7250/non_HLOS/modem_proc_HI25/modem_proc/build/cust/cust_lgdata_cdma_na.h',\n",
       "  '755 #define LGP_DATA_LEGACY_FAST_DORMANCY_OFF macro '],\n",
       " ['/lamp_r_release_sm7250/non_HLOS_BITRA/modem_proc/datamodem/3gpp/ps/src/ds_3gpp_bearer_context_external.c',\n",
       "  '72 //#ifdef LGP_DATA_LEGACY_FAST_DORMANCY_OFF79 //#ifdef LGP_DATA_LEGACY_FAST_DORMANCY_OFF420 //#ifdef LGP_DATA_LEGACY_FAST_DORMANCY_OFF475 //#ifdef LGP_DATA_LEGACY_FAST_DORMANCY_OFF476  if(pcas_feature_supported(LGP_DATA_LEGACY_FAST_DORMANCY_OFF, PCAS_AS_ID_0))'],\n",
       " ['/lamp_r_release_sm7250/non_HLOS/modem_proc/datamodem/3gpp/ps/src/ds_3gpp_bearer_context_external.c',\n",
       "  '71 //#ifdef LGP_DATA_LEGACY_FAST_DORMANCY_OFF412 //#ifdef LGP_DATA_LEGACY_FAST_DORMANCY_OFF467 //#ifdef LGP_DATA_LEGACY_FAST_DORMANCY_OFF468  if(pcas_feature_supported(LGP_DATA_LEGACY_FAST_DORMANCY_OFF, PCAS_AS_ID_0))'],\n",
       " ['/lamp_r_release_sm7250/non_HLOS/modem_proc_HI25/modem_proc/datamodem/3gpp/ps/src/ds_3gpp_bearer_context_external.c',\n",
       "  '71 //#ifdef LGP_DATA_LEGACY_FAST_DORMANCY_OFF412 //#ifdef LGP_DATA_LEGACY_FAST_DORMANCY_OFF467 //#ifdef LGP_DATA_LEGACY_FAST_DORMANCY_OFF468  if(pcas_feature_supported(LGP_DATA_LEGACY_FAST_DORMANCY_OFF, PCAS_AS_ID_0))'],\n",
       " ['/lamp_r_release_sm7250/android/frameworks/base/core/java/com/lge/lgdata/LGDataFeatureSets.java',\n",
       "  '1327 ON(LGDataRuntimeFeature.LGP_DATA_LEGACY_FAST_DORMANCY_OFF);',\n",
       "  '/lamp_r_release_sm7250/android/frameworks/base/core/java/com/lge/lgdata/LGDataRuntimeFeature.java',\n",
       "  '1978 LGP_DATA_LEGACY_FAST_DORMANCY_OFF, enum constant in enum:LGDataRuntimeFeature ',\n",
       "  '/lamp_r_release_sm7250/android/frameworks/base/core/java/com/lge/lgdata/patchCodeIdTable.txt',\n",
       "  '301 # LGP_DATA_LEGACY_FAST_DORMANCY_OFF ']]"
      ]
     },
     "execution_count": 6,
     "metadata": {},
     "output_type": "execute_result"
    }
   ],
   "source": [
    "j = 0\n",
    "ele_list=[]\n",
    "mylist=[]\n",
    "tot_list\n",
    "\n",
    "for ele in tot_list:\n",
    "    for i in range(0, len(ele)-2, 2):\n",
    "        ele_list.append( ele[0] + ele[i+1])\n",
    "        ele_list.append( ele[i+2])\n",
    "    mylist.append(ele_list)\n",
    "    ele_list = []\n",
    "mylist\n"
   ]
  },
  {
   "cell_type": "code",
   "execution_count": null,
   "id": "3e725568",
   "metadata": {},
   "outputs": [],
   "source": []
  },
  {
   "cell_type": "code",
   "execution_count": null,
   "id": "e3d332bd",
   "metadata": {},
   "outputs": [],
   "source": []
  },
  {
   "cell_type": "code",
   "execution_count": null,
   "id": "1ce09eaa",
   "metadata": {},
   "outputs": [],
   "source": []
  },
  {
   "cell_type": "code",
   "execution_count": null,
   "id": "05cee6c6",
   "metadata": {},
   "outputs": [],
   "source": []
  }
 ],
 "metadata": {
  "kernelspec": {
   "display_name": "Python 3 (ipykernel)",
   "language": "python",
   "name": "python3"
  },
  "language_info": {
   "codemirror_mode": {
    "name": "ipython",
    "version": 3
   },
   "file_extension": ".py",
   "mimetype": "text/x-python",
   "name": "python",
   "nbconvert_exporter": "python",
   "pygments_lexer": "ipython3",
   "version": "3.9.7"
  }
 },
 "nbformat": 4,
 "nbformat_minor": 5
}
