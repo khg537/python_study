{
 "cells": [
  {
   "cell_type": "code",
   "execution_count": 1,
   "id": "ef9eb6ef",
   "metadata": {},
   "outputs": [],
   "source": [
    "import re"
   ]
  },
  {
   "cell_type": "code",
   "execution_count": 2,
   "id": "6a32a7c5",
   "metadata": {},
   "outputs": [],
   "source": [
    "def isPassWord(pw):\n",
    "    if len(pw) < 10: return False\n",
    "    rules = (r'[0-9]+' , r'[a-z]+', r'[A-Z]+', r'[~!@#$%^&*]+')\n",
    "    \n",
    "    for rule in rules:\n",
    "        if not re.search(rule, pw) : return False\n",
    "    return True"
   ]
  },
  {
   "cell_type": "code",
   "execution_count": 3,
   "id": "1d5d1bce",
   "metadata": {},
   "outputs": [],
   "source": [
    "pwlist = ['asbdJKL12**', '123jkKL*', 'ajkdk123kjKL', 'ABC123*^5D']"
   ]
  },
  {
   "cell_type": "code",
   "execution_count": 4,
   "id": "03dc20d7",
   "metadata": {},
   "outputs": [
    {
     "data": {
      "text/plain": [
       "12"
      ]
     },
     "execution_count": 4,
     "metadata": {},
     "output_type": "execute_result"
    }
   ],
   "source": [
    "maxlen = max(len(x) for x in pwlist)\n",
    "maxlen"
   ]
  },
  {
   "cell_type": "code",
   "execution_count": 5,
   "id": "e518e40c",
   "metadata": {},
   "outputs": [],
   "source": [
    "def verity(pw):\n",
    "    return f' {pw: <{maxlen}} - {\"Correct\" if isPassWord(pw) else \"Wrong\"}'"
   ]
  },
  {
   "cell_type": "code",
   "execution_count": 6,
   "id": "3a6c3c70",
   "metadata": {},
   "outputs": [],
   "source": [
    "str = \"\\n\".join(verity(pw) for pw in pwlist)"
   ]
  },
  {
   "cell_type": "code",
   "execution_count": 7,
   "id": "520d6f82",
   "metadata": {},
   "outputs": [
    {
     "name": "stdout",
     "output_type": "stream",
     "text": [
      " asbdJKL12**  - Correct\n",
      " 123jkKL*     - Wrong\n",
      " ajkdk123kjKL - Wrong\n",
      " ABC123*^5D   - Wrong\n",
      "<class 'str'>\n"
     ]
    }
   ],
   "source": [
    "print(str)\n",
    "print(type(str))"
   ]
  },
  {
   "cell_type": "code",
   "execution_count": 8,
   "id": "2db14c7e",
   "metadata": {},
   "outputs": [],
   "source": [
    "def verity(pw):\n",
    "    return f' {pw} - {\"Correct\" if isPassWord(pw) else \"Wrong\"}'\n",
    "str = \"\\n\".join(verity(pw) for pw in pwlist)"
   ]
  },
  {
   "cell_type": "code",
   "execution_count": 9,
   "id": "0382007d",
   "metadata": {},
   "outputs": [
    {
     "name": "stdout",
     "output_type": "stream",
     "text": [
      " asbdJKL12** - Correct\n",
      " 123jkKL* - Wrong\n",
      " ajkdk123kjKL - Wrong\n",
      " ABC123*^5D - Wrong\n"
     ]
    }
   ],
   "source": [
    "print(str)"
   ]
  },
  {
   "cell_type": "markdown",
   "id": "bf96f915",
   "metadata": {},
   "source": [
    "휴대폰 번호 검증 정규식\n",
    " - 3개의 그룹의 숫자로 되어있으며 그룹은 '-' 로 구분\n",
    " "
   ]
  },
  {
   "cell_type": "code",
   "execution_count": 45,
   "id": "ec826336",
   "metadata": {},
   "outputs": [],
   "source": [
    "import re\n",
    "\n",
    "def isPhoneNumber_T1(num):\n",
    "    if re.search(r'^01[0-26-9]-[0-9]{3,4}-[0-9]{4}$', num):\n",
    "        return True  \n",
    "    \n",
    "    else:\n",
    "        return False\n"
   ]
  },
  {
   "cell_type": "code",
   "execution_count": 46,
   "id": "33a01e6a",
   "metadata": {},
   "outputs": [],
   "source": [
    "phone_numbers = ['010-456-7892',\n",
    "                            '010-2345-1234',\n",
    "                                '013-123-1231',\n",
    "                                    '012 1234 1234',\n",
    "                                        '016-12-1234',\n",
    "                                            'TEL: 012-123-1234',\n",
    "                                                '017-123-1234!']"
   ]
  },
  {
   "cell_type": "code",
   "execution_count": 47,
   "id": "d17bfa9e",
   "metadata": {},
   "outputs": [],
   "source": [
    "def verity(num):\n",
    "    return f'{num} -  {\"Correct\" if isPhoneNumber_T1(num) else \"Wrong\"}'\n",
    "    \n",
    "answers = [verity(phone_num) for phone_num in phone_numbers]\n"
   ]
  },
  {
   "cell_type": "code",
   "execution_count": 48,
   "id": "5aef5849",
   "metadata": {},
   "outputs": [
    {
     "data": {
      "text/plain": [
       "['010-456-7892 -  Correct',\n",
       " '010-2345-1234 -  Correct',\n",
       " '013-123-1231 -  Wrong',\n",
       " '012 1234 1234 -  Wrong',\n",
       " '016-12-1234 -  Wrong',\n",
       " 'TEL: 012-123-1234 -  Wrong',\n",
       " '017-123-1234! -  Wrong']"
      ]
     },
     "execution_count": 48,
     "metadata": {},
     "output_type": "execute_result"
    }
   ],
   "source": [
    "answers"
   ]
  },
  {
   "cell_type": "code",
   "execution_count": 49,
   "id": "243cd0fb",
   "metadata": {},
   "outputs": [
    {
     "data": {
      "text/plain": [
       "'010-456-7892 -  Correct\\n010-2345-1234 -  Correct\\n013-123-1231 -  Wrong\\n012 1234 1234 -  Wrong\\n016-12-1234 -  Wrong\\nTEL: 012-123-1234 -  Wrong\\n017-123-1234! -  Wrong'"
      ]
     },
     "execution_count": 49,
     "metadata": {},
     "output_type": "execute_result"
    }
   ],
   "source": [
    "answers = \"\\n\".join(answers)\n",
    "answers"
   ]
  },
  {
   "cell_type": "code",
   "execution_count": 50,
   "id": "51162c07",
   "metadata": {},
   "outputs": [
    {
     "name": "stdout",
     "output_type": "stream",
     "text": [
      "010-456-7892 -  Correct\n",
      "010-2345-1234 -  Correct\n",
      "013-123-1231 -  Wrong\n",
      "012 1234 1234 -  Wrong\n",
      "016-12-1234 -  Wrong\n",
      "TEL: 012-123-1234 -  Wrong\n",
      "017-123-1234! -  Wrong\n"
     ]
    }
   ],
   "source": [
    "print(answers)"
   ]
  },
  {
   "cell_type": "markdown",
   "id": "b0c107c9",
   "metadata": {},
   "source": [
    "정규식 사용법"
   ]
  },
  {
   "cell_type": "code",
   "execution_count": 54,
   "id": "fb97b72e",
   "metadata": {},
   "outputs": [],
   "source": [
    "import re\n",
    "pattern = re.compile(r'abc')"
   ]
  },
  {
   "cell_type": "code",
   "execution_count": 55,
   "id": "fdd1bcf9",
   "metadata": {},
   "outputs": [],
   "source": [
    "mc1 = re.search(pattern, '123abcd') \n",
    "mc2 = re.search(r'abc', '123abcd')\n",
    "mc3 = pattern.search('123abcd')"
   ]
  },
  {
   "cell_type": "code",
   "execution_count": 57,
   "id": "57237873",
   "metadata": {},
   "outputs": [
    {
     "name": "stdout",
     "output_type": "stream",
     "text": [
      "3 ~ 6에 abc 존재\n",
      "3 ~ 6에 abc 존재\n",
      "3 ~ 6에 abc 존재\n"
     ]
    }
   ],
   "source": [
    "for mc in mc1, mc2, mc3:\n",
    "    print(f'{mc.start()} ~ {mc.end()}에 {mc.group()} 존재')"
   ]
  },
  {
   "cell_type": "code",
   "execution_count": 58,
   "id": "d8fd3de5",
   "metadata": {},
   "outputs": [],
   "source": [
    "## 캐릭터 클래스 사용예제"
   ]
  },
  {
   "cell_type": "code",
   "execution_count": 60,
   "id": "2d61bf25",
   "metadata": {},
   "outputs": [],
   "source": [
    "import re\n",
    "#첫번째 글자 숫자, 두번째 글자 a/b/c 중 한 글자, 세 번째 글자 c ~z 사이 글자가 아닌 글자\n",
    "mc = re.search(r'[0-9][a-z][^c-z]', '123abcd')"
   ]
  },
  {
   "cell_type": "code",
   "execution_count": 63,
   "id": "d9392db4",
   "metadata": {},
   "outputs": [
    {
     "name": "stdout",
     "output_type": "stream",
     "text": [
      "<re.Match object; span=(2, 5), match='3ab'>\n",
      "2 ~ 5 에서 3ab 이  존재\n"
     ]
    }
   ],
   "source": [
    "print(mc)\n",
    "print(f'{mc.start()} ~ {mc.end()} 에서 {mc.group()} 이  존재')"
   ]
  },
  {
   "cell_type": "markdown",
   "id": "36495fca",
   "metadata": {},
   "source": [
    "## 횟수 관련 메타 문자\n",
    "\n",
    "메타 문자: 특별한 용도로 사용되는 문자를 의미함\n",
    "- x* : x 를 0개 이상 사용\n",
    "- x+ : x 를 1개 이상 사용\n",
    "- x? : x를 0 또는 1개 사용\n",
    "- x{n} : x를 n개 사용\n",
    "- x{n, k} : x를 n개 이상, k개 이하 사용\n"
   ]
  },
  {
   "cell_type": "code",
   "execution_count": 120,
   "id": "fffe4420",
   "metadata": {},
   "outputs": [],
   "source": [
    "import re\n",
    "\n",
    "def printMatch(pstr, data):\n",
    "    print(pstr)\n",
    "    for x in data:\n",
    "        mc = re.search(pstr,x)\n",
    "        maxLen = max(len(x) for x in data)\n",
    "        if mc:\n",
    "            print(f'{x:{maxLen}} : {mc.start()} ~ {mc.end()} 에 {mc.group()} 가 존재')\n",
    "        else:\n",
    "            print(f'{x:{maxLen}} : 문자열에 {pstr} 패턴이 존재하지 않음')"
   ]
  },
  {
   "cell_type": "code",
   "execution_count": 67,
   "id": "b6127848",
   "metadata": {},
   "outputs": [
    {
     "name": "stdout",
     "output_type": "stream",
     "text": [
      "[0-9]*\n",
      "     : 0 ~ 0 에  가 존재\n",
      "1    : 0 ~ 1 에 1 가 존재\n",
      "12   : 0 ~ 2 에 12 가 존재\n",
      "1234 : 0 ~ 4 에 1234 가 존재\n",
      "abc  : 0 ~ 0 에  가 존재\n",
      "1a   : 0 ~ 1 에 1 가 존재\n"
     ]
    }
   ],
   "source": [
    "#숫자가 0회 이상 사용된 패턴 찾기(Greedy)\n",
    "dataList = (' ' , '1', '12', '1234', 'abc', '1a')\n",
    "printMatch(r'[0-9]*', dataList)"
   ]
  },
  {
   "cell_type": "code",
   "execution_count": 68,
   "id": "ad07c855",
   "metadata": {},
   "outputs": [
    {
     "name": "stdout",
     "output_type": "stream",
     "text": [
      "[a-z]+\n",
      "c    : 0 ~ 1 에 c 가 존재\n",
      "ab   : 0 ~ 2 에 ab 가 존재\n",
      "abcd : 0 ~ 4 에 abcd 가 존재\n",
      "a12  : 0 ~ 1 에 a 가 존재\n",
      "123  : 문자열에 [a-z]+ 패턴이 존재하지 않음\n",
      "ABC  : 문자열에 [a-z]+ 패턴이 존재하지 않음\n"
     ]
    }
   ],
   "source": [
    "#알파벳 소문자가 1회 이상 사용된 패턴 찾기(Greedy)\n",
    "dataList = ('c', 'ab', 'abcd', 'a12', '123','ABC')\n",
    "printMatch(r'[a-z]+', dataList)"
   ]
  },
  {
   "cell_type": "code",
   "execution_count": 73,
   "id": "ceca6cfd",
   "metadata": {},
   "outputs": [
    {
     "name": "stdout",
     "output_type": "stream",
     "text": [
      "[A-Z]?\n",
      "    : 0 ~ 0 에  가 존재\n",
      "F   : 0 ~ 1 에 F 가 존재\n",
      "AB  : 0 ~ 1 에 A 가 존재\n",
      "1C2 : 0 ~ 0 에  가 존재\n",
      "123 : 0 ~ 0 에  가 존재\n"
     ]
    }
   ],
   "source": [
    "#알파벳 대문자가 없거나 1회 사용된 패턴 찾기\n",
    "dataList = ('', 'F', 'AB', '1C2', '123')\n",
    "printMatch(r'[A-Z]?', dataList)"
   ]
  },
  {
   "cell_type": "code",
   "execution_count": 74,
   "id": "3a30672e",
   "metadata": {},
   "outputs": [
    {
     "name": "stdout",
     "output_type": "stream",
     "text": [
      "[0-9]{3}\n",
      "123      : 0 ~ 3 에 123 가 존재\n",
      "12345    : 0 ~ 3 에 123 가 존재\n",
      "12       : 문자열에 [0-9]{3} 패턴이 존재하지 않음\n",
      "ab1234de : 2 ~ 5 에 123 가 존재\n"
     ]
    }
   ],
   "source": [
    "#숫자가 3회 연속 사용된 패턴 찾기\n",
    "dataList = ('123', '12345', '12', 'ab1234de')\n",
    "printMatch(r'[0-9]{3}', dataList)"
   ]
  },
  {
   "cell_type": "code",
   "execution_count": 75,
   "id": "57a84538",
   "metadata": {},
   "outputs": [
    {
     "name": "stdout",
     "output_type": "stream",
     "text": [
      "[0-9]{,3}\n",
      "abc   : 0 ~ 0 에  가 존재\n",
      "1     : 0 ~ 1 에 1 가 존재\n",
      "12    : 0 ~ 2 에 12 가 존재\n",
      "123   : 0 ~ 3 에 123 가 존재\n",
      "1234  : 0 ~ 3 에 123 가 존재\n",
      "12345 : 0 ~ 3 에 123 가 존재\n"
     ]
    }
   ],
   "source": [
    "#숫자가 3회 이하 연속 사용된 패턴 찾기 (0 개 포함)\n",
    "dataList = ('abc', '1', '12', '123', '1234','12345')\n",
    "printMatch(r'[0-9]{,3}', dataList)"
   ]
  },
  {
   "cell_type": "markdown",
   "id": "cac01b8d",
   "metadata": {},
   "source": [
    "## 여러가지 메타 문자\n",
    "- . : 문자한개(\\n은 제외)\n",
    "- ^x : 문자열의 시작이 x\n",
    "- x$ : 문자열의 끝이 x\n",
    "- x|y : x, y 중 하나 (여러 번 나열 가능)"
   ]
  },
  {
   "cell_type": "code",
   "execution_count": 82,
   "id": "cc0b19ff",
   "metadata": {},
   "outputs": [
    {
     "name": "stdout",
     "output_type": "stream",
     "text": [
      "a..o\n",
      "a12o  : 0 ~ 4 에 a12o 가 존재\n",
      "abco  : 0 ~ 4 에 abco 가 존재\n",
      "aBo   : 문자열에 a..o 패턴이 존재하지 않음\n",
      "a123o : 문자열에 a..o 패턴이 존재하지 않음\n"
     ]
    }
   ],
   "source": [
    "# a  로 시작하고 o 로 끝나는데 사이에 2개의 문자가 있는 패턴 검색\n",
    "dataList = ('a12o', 'abco', 'aBo', 'a123o')\n",
    "printMatch(r'a..o', dataList)"
   ]
  },
  {
   "cell_type": "code",
   "execution_count": 85,
   "id": "e6460c7b",
   "metadata": {},
   "outputs": [
    {
     "name": "stdout",
     "output_type": "stream",
     "text": [
      "result of search .abc :  <re.Match object; span=(0, 4), match='\\nabc'>\n"
     ]
    },
    {
     "data": {
      "text/plain": [
       "'\\nabc'"
      ]
     },
     "metadata": {},
     "output_type": "display_data"
    }
   ],
   "source": [
    "# \\n이 포함된 패턴을 검색하고 싶다면?\n",
    "ret = re.search('.abc', '\\nabc', re.S)\n",
    "print('result of search .abc : ', ret)\n",
    "display(ret.group())"
   ]
  },
  {
   "cell_type": "code",
   "execution_count": 87,
   "id": "c79756dd",
   "metadata": {},
   "outputs": [
    {
     "name": "stdout",
     "output_type": "stream",
     "text": [
      "^[a-z]+\n",
      "a12    : 0 ~ 1 에 a 가 존재\n",
      "kbs    : 0 ~ 3 에 kbs 가 존재\n",
      "123a   : 문자열에 ^[a-z]+ 패턴이 존재하지 않음\n",
      "KBstar : 문자열에 ^[a-z]+ 패턴이 존재하지 않음\n"
     ]
    }
   ],
   "source": [
    "# 1개 이상의 알파벳 소문자로 시작된 패턴에서 '알파벳 소문자' 검색\n",
    "dataList = ('a12', 'kbs', '123a', 'KBstar')\n",
    "printMatch(r'^[a-z]+', dataList)"
   ]
  },
  {
   "cell_type": "code",
   "execution_count": 91,
   "id": "bd371d81",
   "metadata": {},
   "outputs": [
    {
     "name": "stdout",
     "output_type": "stream",
     "text": [
      "[0-9]+$\n",
      "a12    : 1 ~ 3 에 12 가 존재\n",
      "UP3    : 2 ~ 3 에 3 가 존재\n",
      "123a   : 문자열에 [0-9]+$ 패턴이 존재하지 않음\n",
      "KBstar : 문자열에 [0-9]+$ 패턴이 존재하지 않음\n"
     ]
    }
   ],
   "source": [
    "# 1개 이상의 숫자로 끝나 패턴에서 '알파벳 소문자' 검색\n",
    "dataList = ('a12', 'UP3', '123a', 'KBstar')\n",
    "printMatch(r'[0-9]+$', dataList)\n"
   ]
  },
  {
   "cell_type": "code",
   "execution_count": 93,
   "id": "ce8b2c23",
   "metadata": {},
   "outputs": [
    {
     "name": "stdout",
     "output_type": "stream",
     "text": [
      "abc|123\n",
      "abcdef : 0 ~ 3 에 abc 가 존재\n",
      "-1234- : 1 ~ 4 에 123 가 존재\n",
      "12431  : 문자열에 abc|123 패턴이 존재하지 않음\n",
      "axybz  : 문자열에 abc|123 패턴이 존재하지 않음\n"
     ]
    }
   ],
   "source": [
    "#abc 또는 123 패턴 찾기\n",
    "dataList = ('abcdef', '-1234-', '12431', 'axybz')\n",
    "printMatch(r'abc|123', dataList)"
   ]
  },
  {
   "cell_type": "markdown",
   "id": "0c569ebf",
   "metadata": {},
   "source": [
    "## 그룹관련 메타 문자\n",
    "- (x) : () 안의 내용을 그룹화하고 내용이 캡처됨, 그룹 번호 1번 부터 부여\n",
    "- \\1...\\99 : 캡쳐 된 그룹 1번 ~ 99 번 사용\n",
    "- (?:x) : 그룹으로 인정되지만, 캡처 및 그룹번호 부여되지 않음\n",
    "- (?P<name>x) : () 안의 내용을 그룹화 하고 내용을 캡처함. 그룹의  이름을 지정\n",
    "    - 사용시 'name'으로 사용 (예) match.group('name')\n",
    "    - 그룹 번호로도 사용할 수 있음(위치에 따른 번호)\n",
    "- 캡처 : 저장되는 것을 의미하며, 후에 그룹번호를 사용해 꺼내 사용가능함.\n",
    "- 다른 문자 종료는  re.__doc__ 를 사용하도록 한다."
   ]
  },
  {
   "cell_type": "code",
   "execution_count": 115,
   "id": "37aa7eed",
   "metadata": {},
   "outputs": [
    {
     "name": "stdout",
     "output_type": "stream",
     "text": [
      "0 ~ 12에 010-123-4567이 존재\n",
      "010\n",
      "-\n",
      "4567\n",
      "4567 4567\n"
     ]
    }
   ],
   "source": [
    "import re\n",
    "# 1. 숫자 그룹 => 숫자 3글자\n",
    "# 2. 구분 기호 그룹 => : 또는 -또는 공백 문자가 있을 수 있으며, 그룹지정\n",
    "# 3. 그룹번호 부여하지 않는 숫자  그룹=> 숫자 3글자 또는 4글 자\n",
    "# 4. 2번에서 사용된 구분 기호 => 첫 번째 구분 기호와 동일한 것을 사용함\n",
    "# 5. 이름을 pnum 으로 갖는 숫자 그룹 => 숫자 4글자\n",
    "pattern = re.compile(r'([0-9]{3})(:|-| )(?:[0-9]{3,4})\\2(?P<pnum>[0-9]{4})') # '010'    '-'\n",
    "mc = re.search(pattern, '010-123-4567')\n",
    "if mc:\n",
    "    print( '{} ~ {}에 {}이 존재'.format(mc.start(), mc.end(), mc.group()))\n",
    "    for x in mc.groups():\n",
    "        print(x)\n",
    "    print(mc.group(3), mc.group('pnum'))\n",
    "\n",
    "# else:\n",
    "#     pass\n",
    "                     "
   ]
  },
  {
   "cell_type": "code",
   "execution_count": 106,
   "id": "2938068c",
   "metadata": {},
   "outputs": [
    {
     "data": {
      "text/plain": [
       "<re.Match object; span=(0, 12), match='010-123-4567'>"
      ]
     },
     "execution_count": 106,
     "metadata": {},
     "output_type": "execute_result"
    }
   ],
   "source": [
    "mc"
   ]
  },
  {
   "cell_type": "code",
   "execution_count": 116,
   "id": "956621f1",
   "metadata": {},
   "outputs": [
    {
     "name": "stdout",
     "output_type": "stream",
     "text": [
      "Support for regular expressions (RE).\n",
      "\n",
      "This module provides regular expression matching operations similar to\n",
      "those found in Perl.  It supports both 8-bit and Unicode strings; both\n",
      "the pattern and the strings being processed can contain null bytes and\n",
      "characters outside the US ASCII range.\n",
      "\n",
      "Regular expressions can contain both special and ordinary characters.\n",
      "Most ordinary characters, like \"A\", \"a\", or \"0\", are the simplest\n",
      "regular expressions; they simply match themselves.  You can\n",
      "concatenate ordinary characters, so last matches the string 'last'.\n",
      "\n",
      "The special characters are:\n",
      "    \".\"      Matches any character except a newline.\n",
      "    \"^\"      Matches the start of the string.\n",
      "    \"$\"      Matches the end of the string or just before the newline at\n",
      "             the end of the string.\n",
      "    \"*\"      Matches 0 or more (greedy) repetitions of the preceding RE.\n",
      "             Greedy means that it will match as many repetitions as possible.\n",
      "    \"+\"      Matches 1 or more (greedy) repetitions of the preceding RE.\n",
      "    \"?\"      Matches 0 or 1 (greedy) of the preceding RE.\n",
      "    *?,+?,?? Non-greedy versions of the previous three special characters.\n",
      "    {m,n}    Matches from m to n repetitions of the preceding RE.\n",
      "    {m,n}?   Non-greedy version of the above.\n",
      "    \"\\\\\"     Either escapes special characters or signals a special sequence.\n",
      "    []       Indicates a set of characters.\n",
      "             A \"^\" as the first character indicates a complementing set.\n",
      "    \"|\"      A|B, creates an RE that will match either A or B.\n",
      "    (...)    Matches the RE inside the parentheses.\n",
      "             The contents can be retrieved or matched later in the string.\n",
      "    (?aiLmsux) The letters set the corresponding flags defined below.\n",
      "    (?:...)  Non-grouping version of regular parentheses.\n",
      "    (?P<name>...) The substring matched by the group is accessible by name.\n",
      "    (?P=name)     Matches the text matched earlier by the group named name.\n",
      "    (?#...)  A comment; ignored.\n",
      "    (?=...)  Matches if ... matches next, but doesn't consume the string.\n",
      "    (?!...)  Matches if ... doesn't match next.\n",
      "    (?<=...) Matches if preceded by ... (must be fixed length).\n",
      "    (?<!...) Matches if not preceded by ... (must be fixed length).\n",
      "    (?(id/name)yes|no) Matches yes pattern if the group with id/name matched,\n",
      "                       the (optional) no pattern otherwise.\n",
      "\n",
      "The special sequences consist of \"\\\\\" and a character from the list\n",
      "below.  If the ordinary character is not on the list, then the\n",
      "resulting RE will match the second character.\n",
      "    \\number  Matches the contents of the group of the same number.\n",
      "    \\A       Matches only at the start of the string.\n",
      "    \\Z       Matches only at the end of the string.\n",
      "    \\b       Matches the empty string, but only at the start or end of a word.\n",
      "    \\B       Matches the empty string, but not at the start or end of a word.\n",
      "    \\d       Matches any decimal digit; equivalent to the set [0-9] in\n",
      "             bytes patterns or string patterns with the ASCII flag.\n",
      "             In string patterns without the ASCII flag, it will match the whole\n",
      "             range of Unicode digits.\n",
      "    \\D       Matches any non-digit character; equivalent to [^\\d].\n",
      "    \\s       Matches any whitespace character; equivalent to [ \\t\\n\\r\\f\\v] in\n",
      "             bytes patterns or string patterns with the ASCII flag.\n",
      "             In string patterns without the ASCII flag, it will match the whole\n",
      "             range of Unicode whitespace characters.\n",
      "    \\S       Matches any non-whitespace character; equivalent to [^\\s].\n",
      "    \\w       Matches any alphanumeric character; equivalent to [a-zA-Z0-9_]\n",
      "             in bytes patterns or string patterns with the ASCII flag.\n",
      "             In string patterns without the ASCII flag, it will match the\n",
      "             range of Unicode alphanumeric characters (letters plus digits\n",
      "             plus underscore).\n",
      "             With LOCALE, it will match the set [0-9_] plus characters defined\n",
      "             as letters for the current locale.\n",
      "    \\W       Matches the complement of \\w.\n",
      "    \\\\       Matches a literal backslash.\n",
      "\n",
      "This module exports the following functions:\n",
      "    match     Match a regular expression pattern to the beginning of a string.\n",
      "    fullmatch Match a regular expression pattern to all of a string.\n",
      "    search    Search a string for the presence of a pattern.\n",
      "    sub       Substitute occurrences of a pattern found in a string.\n",
      "    subn      Same as sub, but also return the number of substitutions made.\n",
      "    split     Split a string by the occurrences of a pattern.\n",
      "    findall   Find all occurrences of a pattern in a string.\n",
      "    finditer  Return an iterator yielding a Match object for each match.\n",
      "    compile   Compile a pattern into a Pattern object.\n",
      "    purge     Clear the regular expression cache.\n",
      "    escape    Backslash all non-alphanumerics in a string.\n",
      "\n",
      "Each function other than purge and escape can take an optional 'flags' argument\n",
      "consisting of one or more of the following module constants, joined by \"|\".\n",
      "A, L, and U are mutually exclusive.\n",
      "    A  ASCII       For string patterns, make \\w, \\W, \\b, \\B, \\d, \\D\n",
      "                   match the corresponding ASCII character categories\n",
      "                   (rather than the whole Unicode categories, which is the\n",
      "                   default).\n",
      "                   For bytes patterns, this flag is the only available\n",
      "                   behaviour and needn't be specified.\n",
      "    I  IGNORECASE  Perform case-insensitive matching.\n",
      "    L  LOCALE      Make \\w, \\W, \\b, \\B, dependent on the current locale.\n",
      "    M  MULTILINE   \"^\" matches the beginning of lines (after a newline)\n",
      "                   as well as the string.\n",
      "                   \"$\" matches the end of lines (before a newline) as well\n",
      "                   as the end of the string.\n",
      "    S  DOTALL      \".\" matches any character at all, including the newline.\n",
      "    X  VERBOSE     Ignore whitespace and comments for nicer looking RE's.\n",
      "    U  UNICODE     For compatibility only. Ignored for string patterns (it\n",
      "                   is the default), and forbidden for bytes patterns.\n",
      "\n",
      "This module also defines an exception 'error'.\n",
      "\n",
      "\n"
     ]
    }
   ],
   "source": [
    "print(re.__doc__)"
   ]
  },
  {
   "cell_type": "markdown",
   "id": "7fbebbeb",
   "metadata": {},
   "source": [
    "? 가 있으면 .non-Greedy 버전임...."
   ]
  },
  {
   "cell_type": "markdown",
   "id": "a870f3ad",
   "metadata": {},
   "source": [
    "## Special Secquence 1\n",
    " - \\d : 숫자 한개 == [0-9]\n",
    " - \\D : \\d 가 아닌 문자 한개 == [ ^0-9]\n",
    " - \\w : 숫자 + 문자(알파벳, 한글 등) + _ == [가-힣a-zA-Z0-9_] ( 이름 작성에 사용가능한 문자)\n",
    " - \\W : \\w 가 아닌 문자 ==[^가-힣a-zA-Z0-9_] \n",
    " - \\s : 화이트스페이스 문자 ==[\\t\\n\\r\\f\\v]( space 포함)\n",
    " - \\S : \\s 가 아닌 문자 == [^\\t\\n\\r\\f\\v]\n",
    " - \\^ : 메타문자 '^' 를 일반 문자로 취급\n",
    " - \\A : 문자열의 시작부터 매치되는 문자열을 찾음\n",
    " - \\Z : 문자열의 끝부터 매치되는 문자열을 찾음\n",
    "    - \\A, \\Z 는 여러줄 문자열도 1개의 문자열로 취급함\n",
    "\n"
   ]
  },
  {
   "cell_type": "code",
   "execution_count": 122,
   "id": "7a8043ce",
   "metadata": {},
   "outputs": [
    {
     "name": "stdout",
     "output_type": "stream",
     "text": [
      "\\d\\w\\W\\s\\D\n",
      "123_* ab : 2 ~ 7 에 3_* a 가 존재\n"
     ]
    }
   ],
   "source": [
    "#숫자 1개 + 이름작성에 사용 가능 문자 1개 + 이름 작성에 상툥 불가능한 문자 1개 + 화이트스페이스문자 1개 + 숫자 아닌 문자 1개\n",
    "dataList = ('123_* ab',)\n",
    "printMatch(r'\\d\\w\\W\\s\\D', dataList)"
   ]
  },
  {
   "cell_type": "code",
   "execution_count": 124,
   "id": "672d9486",
   "metadata": {},
   "outputs": [
    {
     "name": "stdout",
     "output_type": "stream",
     "text": [
      "\\d+\\s?\\^\\s*\\d+\n",
      "a=12^3 * 4 : 2 ~ 6 에 12^3 가 존재\n",
      "2^345      : 0 ~ 5 에 2^345 가 존재\n",
      "8 ^ 2      : 0 ~ 5 에 8 ^ 2 가 존재\n"
     ]
    }
   ],
   "source": [
    "#숫자 1글자 이상 + (공백문자 1개 있거나 없거나) + ^ + (공백문자 0개 이상) + 숫자 1글자 이상 검색\n",
    "dataList = ('a=12^3 * 4', '2^345', '8 ^ 2')\n",
    "printMatch(r'\\d+\\s?\\^\\s*\\d+', dataList)"
   ]
  },
  {
   "cell_type": "code",
   "execution_count": 134,
   "id": "ffc46cc4",
   "metadata": {},
   "outputs": [],
   "source": [
    "import re\n",
    "\n",
    "data = '''There is no mistaking\n",
    "There is a real book\n",
    "It is like falling in love\n",
    "A true love'''"
   ]
  },
  {
   "cell_type": "code",
   "execution_count": 140,
   "id": "9f4ad98f",
   "metadata": {},
   "outputs": [
    {
     "name": "stdout",
     "output_type": "stream",
     "text": [
      "<re.Match object; span=(0, 5), match='There'>\n",
      "<re.Match object; span=(76, 81), match=' love'>\n",
      "<re.Match object; span=(0, 5), match='There'>\n",
      "<re.Match object; span=(64, 69), match=' love'>\n"
     ]
    }
   ],
   "source": [
    "print(re.search(r'^There',data))\n",
    "print(re.search(r' love$',data))\n",
    "print(re.search(r'^There',data, re.M))\n",
    "print(re.search(r' love$',data, re.M))"
   ]
  },
  {
   "cell_type": "code",
   "execution_count": 141,
   "id": "fc46eb4f",
   "metadata": {},
   "outputs": [
    {
     "name": "stdout",
     "output_type": "stream",
     "text": [
      "['There']\n",
      "[' love']\n",
      "['There', 'There']\n",
      "[' love', ' love']\n"
     ]
    }
   ],
   "source": [
    "print(re.findall(r'^There',data))\n",
    "print(re.findall(r' love$',data))\n",
    "print(re.findall(r'^There',data, re.M))\n",
    "print(re.findall(r' love$',data, re.M))"
   ]
  },
  {
   "cell_type": "code",
   "execution_count": 143,
   "id": "bf6ab853",
   "metadata": {},
   "outputs": [
    {
     "name": "stdout",
     "output_type": "stream",
     "text": [
      "['There']\n",
      "[' love']\n",
      "['There']\n",
      "[' love']\n"
     ]
    }
   ],
   "source": [
    "print(re.findall(r'\\AThere',data))\n",
    "print(re.findall(r' love\\Z',data))\n",
    "print(re.findall(r'\\AThere',data, re.M))\n",
    "print(re.findall(r' love\\Z',data, re.M))"
   ]
  },
  {
   "cell_type": "markdown",
   "id": "0bdac922",
   "metadata": {},
   "source": [
    "## Special Secquence 2\n",
    "- \\b : boundary - \\w 와 \\W 의 사이를 의미함(단어의 경계)\n",
    " - 단어의 시작 또는 끝에서 매치되는 것을 찾음\n",
    " - 맨앞에 사용할 경우 단어의 시작\n",
    " - 맨뒤에 사용할 경우 단어의 끝\n",
    " \n",
    " - \\B : boundary 가 아닌 것\n",
    "  - 단어의 시작 또는 끝에서 매치되는 것을 찾음\n",
    "  - 맨앞에 사용할 경우 단어의 시작\n",
    "  - 맨뒤에 사용할 경우 단어의 끝\n",
    " \n",
    " -특이 사항\n",
    "  - \\b, \\B 는 패턴의 앞, 뒤에 사용함\n",
    "  - \\b, \\B는 \\w(워드문자)가 아닌 문자를 구분 문자로 취급함  \n"
   ]
  },
  {
   "cell_type": "code",
   "execution_count": 144,
   "id": "4b4c7b30",
   "metadata": {},
   "outputs": [],
   "source": [
    "import re\n",
    "def printMatch2(pstr, data):\n",
    "    mc = re.finditer(pstr, data)\n",
    "    print(pstr)\n",
    "    print([[x.span(), x.group()] for x in mc])"
   ]
  },
  {
   "cell_type": "code",
   "execution_count": 145,
   "id": "cd3d7630",
   "metadata": {},
   "outputs": [
    {
     "name": "stdout",
     "output_type": "stream",
     "text": [
      "picked peck opic? 123pie 456.pie pickeds.\n"
     ]
    }
   ],
   "source": [
    "data = 'picked peck opic? 123pie 456.pie pickeds.'\n",
    "#pi가 포함된 모든 문자열 : r'pi'\n",
    "#단어의 시작이 pi인 것 : r'\\bpi'\n",
    "print(data)"
   ]
  },
  {
   "cell_type": "code",
   "execution_count": 146,
   "id": "96a2c56a",
   "metadata": {},
   "outputs": [
    {
     "name": "stdout",
     "output_type": "stream",
     "text": [
      "pi\n",
      "[[(0, 2), 'pi'], [(13, 15), 'pi'], [(21, 23), 'pi'], [(29, 31), 'pi'], [(33, 35), 'pi']]\n"
     ]
    }
   ],
   "source": [
    "printMatch2(r'pi', data)"
   ]
  },
  {
   "cell_type": "code",
   "execution_count": 147,
   "id": "e7cfe4d9",
   "metadata": {},
   "outputs": [
    {
     "name": "stdout",
     "output_type": "stream",
     "text": [
      "\\bpi\n",
      "[[(0, 2), 'pi'], [(29, 31), 'pi'], [(33, 35), 'pi']]\n"
     ]
    }
   ],
   "source": [
    "printMatch2(r'\\bpi', data)"
   ]
  },
  {
   "cell_type": "code",
   "execution_count": 148,
   "id": "d6d705e7",
   "metadata": {},
   "outputs": [
    {
     "name": "stdout",
     "output_type": "stream",
     "text": [
      "picked peck opic? picked/ pickeds?\n"
     ]
    }
   ],
   "source": [
    "data = 'picked peck opic? picked/ pickeds?'\n",
    "print(data)"
   ]
  },
  {
   "cell_type": "code",
   "execution_count": 153,
   "id": "6bd191cf",
   "metadata": {},
   "outputs": [
    {
     "name": "stdout",
     "output_type": "stream",
     "text": [
      "\\bp\\w+ed\n",
      "[[(0, 6), 'picked'], [(18, 24), 'picked'], [(26, 32), 'picked']]\n"
     ]
    }
   ],
   "source": [
    "#p로 시작하는 단어이면서, ed로 끝나는 모든 것 - r'\\bp\\w+ed'\n",
    "#경계 + p +워드문자 1개 이상 +ed\n",
    "printMatch2(r'\\bp\\w+ed',data)"
   ]
  },
  {
   "cell_type": "code",
   "execution_count": 155,
   "id": "3c470428",
   "metadata": {},
   "outputs": [
    {
     "name": "stdout",
     "output_type": "stream",
     "text": [
      "\\bp\\w+ed\\b\n",
      "[[(0, 6), 'picked'], [(18, 24), 'picked']]\n"
     ]
    }
   ],
   "source": [
    "#p로 시작하는 단어이면서, ed로 끝나는 단어- r'\\bp\\w+ed'\n",
    "#경계 + p +워드문자 1개 이상 +ed + \\d\n",
    "printMatch2(r'\\bp\\w+ed\\b',data)"
   ]
  },
  {
   "cell_type": "code",
   "execution_count": 156,
   "id": "64bfb2a9",
   "metadata": {},
   "outputs": [
    {
     "name": "stdout",
     "output_type": "stream",
     "text": [
      "picked peck opic? 123.pie pickeds. a....bcd\n",
      "\\B\\w+\\B\n",
      "[[(1, 5), 'icke'], [(8, 10), 'ec'], [(13, 15), 'pi'], [(19, 20), '2'], [(23, 24), 'i'], [(27, 32), 'icked'], [(41, 42), 'c']]\n"
     ]
    }
   ],
   "source": [
    "data = 'picked peck opic? 123.pie pickeds. a....bcd'\n",
    "print(data)\n",
    "#경계가 아닌 것 + 워드 문자 1개 이상 + 경계가 아닌 것\n",
    "printMatch2(r'\\B\\w+\\B', data)\n"
   ]
  },
  {
   "cell_type": "markdown",
   "id": "2dbd9255",
   "metadata": {},
   "source": [
    "## 패턴 작성 연습1"
   ]
  },
  {
   "cell_type": "code",
   "execution_count": 158,
   "id": "bd074d5b",
   "metadata": {},
   "outputs": [
    {
     "name": "stdout",
     "output_type": "stream",
     "text": [
      "\\b01[0-26-9]-\\d{3,4}-\\d{4}\\b\n",
      "phone:010-123-1234 : 6 ~ 18 에 010-123-1234 가 존재\n",
      "phone010-123-1234  : 문자열에 \\b01[0-26-9]-\\d{3,4}-\\d{4}\\b 패턴이 존재하지 않음\n",
      "018-1234-1234      : 0 ~ 13 에 018-1234-1234 가 존재\n",
      "001-567-9876       : 문자열에 \\b01[0-26-9]-\\d{3,4}-\\d{4}\\b 패턴이 존재하지 않음\n"
     ]
    }
   ],
   "source": [
    "data = ('phone:010-123-1234', 'phone010-123-1234', '018-1234-1234', '001-567-9876')\n",
    "#경계문자 + (010 0110 012 016 017 018 019 중 1개 ) + '-' + 숫자 3~4 개 +'-' + 숫자4개 + 경계문자\n",
    "printMatch(r'\\b01[0-26-9]-\\d{3,4}-\\d{4}\\b', data)"
   ]
  },
  {
   "cell_type": "markdown",
   "id": "b3a71a24",
   "metadata": {},
   "source": [
    "## 패턴작성 연습2"
   ]
  },
  {
   "cell_type": "code",
   "execution_count": 161,
   "id": "db7ae9a6",
   "metadata": {},
   "outputs": [
    {
     "name": "stdout",
     "output_type": "stream",
     "text": [
      "(so){3,5}\n",
      "sososo     : 0 ~ 6 에 sososo 가 존재\n",
      "sosososo   : 0 ~ 8 에 sosososo 가 존재\n",
      "sososososo : 0 ~ 10 에 sososososo 가 존재\n",
      "soso       : 문자열에 (so){3,5} 패턴이 존재하지 않음\n"
     ]
    }
   ],
   "source": [
    "#so 를 3 ~ 5회 반복 - greedy (큰 횟수)\n",
    "data = ('sososo', 'sosososo', 'sososososo', 'soso')\n",
    "printMatch(r'(so){3,5}', data)"
   ]
  },
  {
   "cell_type": "code",
   "execution_count": 162,
   "id": "7d090ab0",
   "metadata": {},
   "outputs": [
    {
     "name": "stdout",
     "output_type": "stream",
     "text": [
      "(so){3,5}?\n",
      "sososo     : 0 ~ 6 에 sososo 가 존재\n",
      "sosososo   : 0 ~ 6 에 sososo 가 존재\n",
      "sososososo : 0 ~ 6 에 sososo 가 존재\n",
      "soso       : 문자열에 (so){3,5}? 패턴이 존재하지 않음\n"
     ]
    }
   ],
   "source": [
    "#so 를 3 ~ 5회 반복 - non-greedy (작은 횟수)\n",
    "data = ('sososo', 'sosososo', 'sososososo', 'soso')\n",
    "printMatch(r'(so){3,5}?', data)"
   ]
  },
  {
   "cell_type": "code",
   "execution_count": 163,
   "id": "8974bb11",
   "metadata": {},
   "outputs": [
    {
     "name": "stdout",
     "output_type": "stream",
     "text": [
      "(sa|so){3,5}?\n",
      "sasasa     : 0 ~ 6 에 sasasa 가 존재\n",
      "sosososo   : 0 ~ 6 에 sososo 가 존재\n",
      "sasosa     : 0 ~ 6 에 sasosa 가 존재\n",
      "sososososo : 0 ~ 6 에 sososo 가 존재\n",
      "sasasasaso : 0 ~ 6 에 sasasa 가 존재\n",
      "soso       : 문자열에 (sa|so){3,5}? 패턴이 존재하지 않음\n"
     ]
    }
   ],
   "source": [
    "#sa 또는 so 를 3 ~ 5회 반복 - non-greedy (작은 횟수)\n",
    "data = ('sasasa', 'sosososo', 'sasosa', 'sososososo', 'sasasasaso','soso')\n",
    "printMatch(r'(sa|so){3,5}?', data)"
   ]
  },
  {
   "cell_type": "code",
   "execution_count": 165,
   "id": "458746c0",
   "metadata": {},
   "outputs": [
    {
     "name": "stdout",
     "output_type": "stream",
     "text": [
      "^\\d+$\n",
      "1      : 0 ~ 1 에 1 가 존재\n",
      "12     : 0 ~ 2 에 12 가 존재\n",
      "1234   : 0 ~ 4 에 1234 가 존재\n",
      "12ab34 : 문자열에 ^\\d+$ 패턴이 존재하지 않음\n",
      "12 34  : 문자열에 ^\\d+$ 패턴이 존재하지 않음\n"
     ]
    }
   ],
   "source": [
    "#숫자 1개 이상으로 이루어진 문자열 (숫자만으로 이루어진 문자열)\n",
    "data = ('1', '12', '1234', '12ab34', '12 34')\n",
    "printMatch(r'^\\d+$', data)"
   ]
  },
  {
   "cell_type": "markdown",
   "id": "563e2b85",
   "metadata": {},
   "source": [
    "## 탐색함수\n",
    "- re.findall\n",
    " - 겹치지 않게 탐색하여 list 객체 반환\n",
    "\n",
    "- re.finditer\n",
    " - Match iterator 객체 반환(반복문 사용가능)\n",
    "\n",
    "- re.search\n",
    " - 문자열의 임의지점에서 패턴과  match하는 텍스트 탐색, Match 객체 반환\n",
    " \n",
    "- re.match\n",
    "  - 문자열의 시작지점에서 패턴과  match하는 텍스트 탐색, Match 객체 반환\n",
    "  \n",
    "- re.fullmatch\n",
    "  - 문자열과 패턴이 전체 매치하는 텍스트 탐색, Match 객체 반환\n",
    "  \n",
    " - 매칭되는 것이 없으면 None 반환"
   ]
  },
  {
   "cell_type": "code",
   "execution_count": 168,
   "id": "fe4a0aba",
   "metadata": {},
   "outputs": [
    {
     "name": "stdout",
     "output_type": "stream",
     "text": [
      "<class 'list'>\n",
      "Matched: wow\n",
      "Matched: wow\n",
      "Matched: wow\n"
     ]
    }
   ],
   "source": [
    "#findall\n",
    "import re\n",
    "\n",
    "ret = re.findall(r'wow', 'wowwowwow')\n",
    "print(type(ret))\n",
    "for t in ret:\n",
    "    print(f'Matched: {t}')"
   ]
  },
  {
   "cell_type": "code",
   "execution_count": 170,
   "id": "4dff3649",
   "metadata": {},
   "outputs": [
    {
     "name": "stdout",
     "output_type": "stream",
     "text": [
      "<class 'callable_iterator'>\n",
      "Matched: <re.Match object; span=(0, 3), match='wow'>\n",
      "Matched: <re.Match object; span=(3, 6), match='wow'>\n",
      "Matched: <re.Match object; span=(6, 9), match='wow'>\n"
     ]
    }
   ],
   "source": [
    "#finditer\n",
    "import re\n",
    "\n",
    "ret = re.finditer(r'wow', 'wowwowwow')\n",
    "print(type(ret))\n",
    "for t in ret:\n",
    "    print(f'Matched: {t}')"
   ]
  },
  {
   "cell_type": "code",
   "execution_count": 178,
   "id": "f74f254e",
   "metadata": {},
   "outputs": [
    {
     "name": "stdout",
     "output_type": "stream",
     "text": [
      "Matched ret1 : ab\n",
      "Matched ret2 : ab\n"
     ]
    }
   ],
   "source": [
    "#search\n",
    "pattern = re.compile(r'[a-z]{2}')\n",
    "ret1 = pattern.search('123abc123')\n",
    "ret2 = pattern.search(r'abcXde')\n",
    "if ret1: print(f'Matched ret1 : { ret1.group()}')\n",
    "if ret2: print(f'Matched ret2 : { ret2.group()}')"
   ]
  },
  {
   "cell_type": "code",
   "execution_count": 177,
   "id": "81f1456e",
   "metadata": {},
   "outputs": [
    {
     "name": "stdout",
     "output_type": "stream",
     "text": [
      "Matched ret2 : ab\n"
     ]
    }
   ],
   "source": [
    "#match\n",
    "pattern = re.compile(r'[a-z]{2}')\n",
    "ret1 = pattern.match('123abc123')\n",
    "ret2 = pattern.match(r'abcXde')\n",
    "if ret1: print(f'Matched ret1 : { ret1.group()}')\n",
    "if ret2: print(f'Matched ret2 : { ret2.group()}')"
   ]
  },
  {
   "cell_type": "code",
   "execution_count": 179,
   "id": "164d65ce",
   "metadata": {},
   "outputs": [
    {
     "name": "stdout",
     "output_type": "stream",
     "text": [
      "Matched ret2 : ab\n"
     ]
    }
   ],
   "source": [
    "#fullmatch\n",
    "pattern = re.compile(r'[a-z]{2}')\n",
    "ret1 = pattern.fullmatch('abcd')\n",
    "ret2 = pattern.fullmatch(r'ab')\n",
    "if ret1: print(f'Matched ret1 : { ret1.group()}')\n",
    "if ret2: print(f'Matched ret2 : { ret2.group()}')"
   ]
  },
  {
   "cell_type": "code",
   "execution_count": 181,
   "id": "12ed94cd",
   "metadata": {},
   "outputs": [
    {
     "name": "stdout",
     "output_type": "stream",
     "text": [
      "<re.Match object; span=(0, 1), match='1'>\n",
      "<re.Match object; span=(0, 2), match='12'>\n",
      "<re.Match object; span=(0, 4), match='1234'>\n",
      "None\n",
      "None\n"
     ]
    }
   ],
   "source": [
    "#숫자 1개 이상으로 이루어진 문자열 (숫자만으로 이루어진 문자열)\n",
    "data = ('1', '12', '1234', '12ab34', '12 34')\n",
    "for x in data:\n",
    "    r = re.fullmatch(r'\\d+', x)\n",
    "    print(r)"
   ]
  },
  {
   "cell_type": "markdown",
   "id": "d90a4132",
   "metadata": {},
   "source": [
    "## 치환 / 분리 함수"
   ]
  },
  {
   "cell_type": "markdown",
   "id": "8c630948",
   "metadata": {},
   "source": [
    "- re.sub(패턴, 치환문자열, 문자열) : 문자열에서 패턴과 매치하는 텍스트를 치환 문자열로 치환함\n",
    "- re.split(패턴, 문자열) : 문자열을 패턴 기준으로 분리함\n",
    "    - 문자열 list로 반환, 패턴에 맞는 것이 없으면 문자열을 분리하지 않고 1개 item으로 취급함"
   ]
  },
  {
   "cell_type": "code",
   "execution_count": 185,
   "id": "9a58c3fb",
   "metadata": {},
   "outputs": [
    {
     "name": "stdout",
     "output_type": "stream",
     "text": [
      "X1X2X3X\n"
     ]
    }
   ],
   "source": [
    "import re\n",
    "#연속된 알파벳 소문자 1개 이상을 X로\n",
    "ret = re.sub(r'[a-z]+','X', 'abc1de2fg3hij')\n",
    "print(ret)"
   ]
  },
  {
   "cell_type": "code",
   "execution_count": 186,
   "id": "391ef339",
   "metadata": {},
   "outputs": [
    {
     "name": "stdout",
     "output_type": "stream",
     "text": [
      "['abc', 'de', 'fg', 'hij']\n"
     ]
    }
   ],
   "source": [
    "#숫자를 구분자로 하여 문자열 분리\n",
    "ret = re.split(r'\\d', 'abc1de2fg3hij')\n",
    "print(ret)"
   ]
  },
  {
   "cell_type": "markdown",
   "id": "d69913cd",
   "metadata": {},
   "source": [
    "## Match 객체의 메서드"
   ]
  },
  {
   "cell_type": "markdown",
   "id": "17db60b9",
   "metadata": {},
   "source": [
    "- mc.group() : 매치되는 텍스트를 string으로 변환하여 반환\n",
    "- mc.group(번호또는 이름): 그룹 번호에 해당하는 텍스트를 string으로 변환하여 반환\n",
    "  - 그룹번호는 1부터 시작하여 1씩 증가하는 정수\n",
    "- mp.group(번호1, ...) : 여러개의 그룹을 텍스트로 변환하여 tuple 반환\n",
    "- mc.grops() : .매치되는 텍스트들을 string으로 반환하여 튜플 반환\n",
    "- mc.start() : 매치된 텍스트의 시작위치 바환\n",
    "- mc.end() : 매치된 텍스트의 마지막 다음 위치 반환\n",
    "- mc.span() : 매치된 텍스트의 ( start,  end) 에 해당되는 튜플 반환"
   ]
  },
  {
   "cell_type": "code",
   "execution_count": 200,
   "id": "0833c6ec",
   "metadata": {},
   "outputs": [],
   "source": [
    "import re\n",
    "\n",
    "pattern = re.compile(r'(?P<localcode>\\(\\d{3}\\)) (\\d{3})-(\\d{4})')"
   ]
  },
  {
   "cell_type": "code",
   "execution_count": 202,
   "id": "2229b766",
   "metadata": {},
   "outputs": [
    {
     "name": "stdout",
     "output_type": "stream",
     "text": [
      "<class 're.Match'>\n"
     ]
    }
   ],
   "source": [
    "ret = pattern.search('(031) 234-2345')\n",
    "print(type(ret))"
   ]
  },
  {
   "cell_type": "code",
   "execution_count": 206,
   "id": "90c9f85d",
   "metadata": {},
   "outputs": [
    {
     "name": "stdout",
     "output_type": "stream",
     "text": [
      "(031)\n",
      "(031)\n",
      "234\n",
      "2345\n",
      "('(031)', '234', '2345')\n",
      "('234', '2345')\n",
      "0\n",
      "14\n",
      "(0, 14)\n"
     ]
    }
   ],
   "source": [
    "print(ret.group(1))\n",
    "print(ret.group('localcode'))\n",
    "print(ret.group(2))\n",
    "print(ret.group(3))\n",
    "print(ret.groups())\n",
    "print(ret.group(2,3))\n",
    "print(ret.start())\n",
    "print(ret.end())\n",
    "print(ret.span())"
   ]
  },
  {
   "cell_type": "markdown",
   "id": "113ec741",
   "metadata": {},
   "source": [
    "## compile()의 옵션"
   ]
  },
  {
   "cell_type": "markdown",
   "id": "ae959834",
   "metadata": {},
   "source": [
    "- re.compile(패턴문자열, 옵션) 과 같이 사용함\n",
    "- re.탐색함수(패턴, 문자열, 옵션) 과 같이 사용함\n",
    "- 여러개의 옵션을 동시 적용하기 위해서는 or연산을 하는 | 을 사용함\n",
    "- re.DOTALL, re.S : . 메타문자를 \\n을 포함한 글자 1개를 표현할 수 있도록 함\n",
    "- re.IGNORECASE, re.I : 영문 대소문자를 구분하지 않고 매치 수행\n",
    "- re.MULTILINE, re.M : ^ 및 $ 과 연관 있는 옵션으로 문자열이 '여러 줄' 인 것을 허용\n",
    "- re.VERBOSE, re.X : 이해 어려운 정규식에 주석또는 라인단위로 구분하여 표시할 수 있도록 처리"
   ]
  },
  {
   "cell_type": "code",
   "execution_count": 211,
   "id": "9527e25b",
   "metadata": {},
   "outputs": [
    {
     "name": "stdout",
     "output_type": "stream",
     "text": [
      "Good\n",
      "----------\n",
      "Good\n",
      "Better\n",
      "----------\n",
      "Good\n",
      "Better\n",
      "----------\n"
     ]
    }
   ],
   "source": [
    "import re\n",
    "\n",
    "pt1 = re.compile(r'.*')\n",
    "pt2 = re.compile(r'.*', re.DOTALL)\n",
    "pt3 = re.compile(r'.*', re.S)\n",
    "\n",
    "for pattern in (pt1, pt2, pt3):\n",
    "    ret = re.search(pattern, 'Good\\nBetter')\n",
    "    print(ret.group())\n",
    "    print('-'*10)\n",
    "#ret.re.search(r'.*',  'Good\\nBetter', ret.DOTALL)"
   ]
  },
  {
   "cell_type": "code",
   "execution_count": 214,
   "id": "b1d3d2c8",
   "metadata": {},
   "outputs": [
    {
     "name": "stdout",
     "output_type": "stream",
     "text": [
      "['abc']\n",
      "----------\n",
      "['abc', 'ABC', 'AbC']\n",
      "----------\n",
      "['abc', 'ABC', 'AbC']\n",
      "----------\n"
     ]
    }
   ],
   "source": [
    "pt1 = re.compile(r'abc')\n",
    "pt2 = re.compile(r'abc', re.IGNORECASE)\n",
    "pt3 = re.compile(r'abc', re.I)\n",
    "\n",
    "for pattern in (pt1, pt2, pt3):\n",
    "    ret = re.findall(pattern, 'abcABCAbC')\n",
    "    print(ret)\n",
    "    print('-'*10)"
   ]
  },
  {
   "cell_type": "code",
   "execution_count": 220,
   "id": "8c9b32c8",
   "metadata": {},
   "outputs": [
    {
     "name": "stdout",
     "output_type": "stream",
     "text": [
      "\n",
      "DONE\n"
     ]
    }
   ],
   "source": [
    "msg = \"Good Morning!\\nGood Afternoon!\\nGood Evening!\"\n",
    "pt1 = re.compile(r'^G(.*)ing!$')\n",
    "pt2= re.compile(r'^G(.*)ing!$', re.MULTILINE)\n",
    "pt3= re.compile(r'^G(.*)ing!$', re.S) #줄바뀜문자 포함됨\n",
    "\n",
    "ret = re.finditer(pt1, msg) #못찾은 경우 비어있는 iter가 반환 .* 는 줄바뀜 문자 제외됨\n",
    "print(*ret, sep='\\n') #argument unpack\n",
    "print('DONE')"
   ]
  },
  {
   "cell_type": "code",
   "execution_count": 221,
   "id": "b0527488",
   "metadata": {},
   "outputs": [
    {
     "name": "stdout",
     "output_type": "stream",
     "text": [
      "<re.Match object; span=(0, 13), match='Good Morning!'>\n",
      "<re.Match object; span=(30, 43), match='Good Evening!'>\n",
      "DONE\n"
     ]
    }
   ],
   "source": [
    "ret = re.finditer(pt2, msg) #못찾은 경우 비어있는 iter가 반환\n",
    "print(*ret, sep='\\n') #argument unpack\n",
    "print('DONE')"
   ]
  },
  {
   "cell_type": "code",
   "execution_count": 222,
   "id": "0e325dfc",
   "metadata": {},
   "outputs": [
    {
     "name": "stdout",
     "output_type": "stream",
     "text": [
      "<re.Match object; span=(0, 43), match='Good Morning!\\nGood Afternoon!\\nGood Evening!'>\n",
      "DONE\n"
     ]
    }
   ],
   "source": [
    "ret = re.finditer(pt3, msg) #못찾은 경우 비어있는 iter가 반환\n",
    "print(*ret, sep='\\n') #argument unpack\n",
    "print('DONE')"
   ]
  },
  {
   "cell_type": "code",
   "execution_count": 234,
   "id": "fe0d093c",
   "metadata": {},
   "outputs": [],
   "source": [
    "# 주석을 쓸때 사용하는 방식\n",
    "import re\n",
    "phone1  = re.compile(r'\\(\\d{3}\\)\\s?\\d{3}-\\d{4}')\n",
    "phone2 = re.compile(r'''(\n",
    "    \\(\\d{3}\\)   # area code\n",
    "    \\s?            # white space (0 or 1)\n",
    "    \\d{3}          # first 3digits\n",
    "    -               # seperator\n",
    "    \\d{4}         # last 4 digits\n",
    ")''', re.VERBOSE) "
   ]
  },
  {
   "cell_type": "code",
   "execution_count": 235,
   "id": "dc05bb09",
   "metadata": {},
   "outputs": [],
   "source": [
    "ret = re.search(phone1, 'Phone: (031) 234-2345')"
   ]
  },
  {
   "cell_type": "code",
   "execution_count": 236,
   "id": "6ec1d259",
   "metadata": {},
   "outputs": [
    {
     "name": "stdout",
     "output_type": "stream",
     "text": [
      "(031) 234-2345\n"
     ]
    }
   ],
   "source": [
    "print(ret.group())"
   ]
  },
  {
   "cell_type": "markdown",
   "id": "34c29d54",
   "metadata": {},
   "source": [
    "## QUIZ"
   ]
  },
  {
   "cell_type": "code",
   "execution_count": 237,
   "id": "711b3463",
   "metadata": {},
   "outputs": [],
   "source": [
    "import re\n",
    "\n",
    "def printMatch(pstr, data):\n",
    "    print(pstr)\n",
    "    for x in data:\n",
    "        mc = re.search(pstr,x)\n",
    "        maxLen = max(len(x) for x in data)\n",
    "        if mc:\n",
    "            print(f'{x:{maxLen}} : {mc.start()} ~ {mc.end()} 에 {mc.group()} 가 존재')\n",
    "        else:\n",
    "            print(f'{x:{maxLen}} : 문자열에 {pstr} 패턴이 존재하지 않음')"
   ]
  },
  {
   "cell_type": "markdown",
   "id": "0308e737",
   "metadata": {},
   "source": [
    "## 1. 양수검색\n",
    "\n",
    "0 보다 큰 양수를 검색한다\n",
    "0, 01, 1a 등은 검색대상이 아니다.\n",
    " - 0으로 시작된 숫자 또는 숫자 이외의 문자와 섞여 있으면 검색대상이 아님"
   ]
  },
  {
   "cell_type": "code",
   "execution_count": 241,
   "id": "3d2e72cb",
   "metadata": {},
   "outputs": [
    {
     "name": "stdout",
     "output_type": "stream",
     "text": [
      "^[1-9]+[0-9]$\n",
      "1    : 문자열에 ^[1-9]+[0-9]$ 패턴이 존재하지 않음\n",
      "12   : 0 ~ 2 에 12 가 존재\n",
      "321  : 0 ~ 3 에 321 가 존재\n",
      "100  : 문자열에 ^[1-9]+[0-9]$ 패턴이 존재하지 않음\n",
      "0    : 문자열에 ^[1-9]+[0-9]$ 패턴이 존재하지 않음\n",
      "01   : 문자열에 ^[1-9]+[0-9]$ 패턴이 존재하지 않음\n",
      "001  : 문자열에 ^[1-9]+[0-9]$ 패턴이 존재하지 않음\n",
      "1a   : 문자열에 ^[1-9]+[0-9]$ 패턴이 존재하지 않음\n",
      "13a1 : 문자열에 ^[1-9]+[0-9]$ 패턴이 존재하지 않음\n"
     ]
    }
   ],
   "source": [
    "dataList = ('1', '12', '321', '100', '0', '01', '001', '1a', '13a1')\n",
    "printMatch(r'^[1-9]+[0-9]$', dataList)"
   ]
  },
  {
   "cell_type": "code",
   "execution_count": 242,
   "id": "2aa34138",
   "metadata": {},
   "outputs": [],
   "source": [
    "##오답"
   ]
  },
  {
   "cell_type": "code",
   "execution_count": 243,
   "id": "d7713af3",
   "metadata": {},
   "outputs": [
    {
     "name": "stdout",
     "output_type": "stream",
     "text": [
      "^[1-9]\\d*$\n",
      "1    : 0 ~ 1 에 1 가 존재\n",
      "12   : 0 ~ 2 에 12 가 존재\n",
      "321  : 0 ~ 3 에 321 가 존재\n",
      "100  : 0 ~ 3 에 100 가 존재\n",
      "0    : 문자열에 ^[1-9]\\d*$ 패턴이 존재하지 않음\n",
      "01   : 문자열에 ^[1-9]\\d*$ 패턴이 존재하지 않음\n",
      "001  : 문자열에 ^[1-9]\\d*$ 패턴이 존재하지 않음\n",
      "1a   : 문자열에 ^[1-9]\\d*$ 패턴이 존재하지 않음\n",
      "13a1 : 문자열에 ^[1-9]\\d*$ 패턴이 존재하지 않음\n"
     ]
    }
   ],
   "source": [
    "printMatch(r'^[1-9]\\d*$', dataList) # 정답"
   ]
  },
  {
   "cell_type": "markdown",
   "id": "42cb98e4",
   "metadata": {},
   "source": [
    "## 2. 날짜 형식 찾기\n",
    "-년도는 4글자이면서 19 또는 20으로 시작함\n",
    "- 월을 01 ~12로 표시되고, 일은 01~31로 표시됨\n",
    "- 윤달 및 28, 29, 30 으로 끝나는 달을 별도 확인하지 않음|\n",
    "- '-/를 사용하여 년, 월, 일을 구분함\n"
   ]
  },
  {
   "cell_type": "code",
   "execution_count": 246,
   "id": "9997ac53",
   "metadata": {},
   "outputs": [],
   "source": [
    "data = ('1990-09-12', '2020-12-31', '2099-10-32', '89-01008')"
   ]
  },
  {
   "cell_type": "code",
   "execution_count": 257,
   "id": "48668553",
   "metadata": {},
   "outputs": [
    {
     "name": "stdout",
     "output_type": "stream",
     "text": [
      "^(19|20)\\d{2}-(0[1-9]|1[0-2])-(0[1-9]|1[0-9]|2[0-9]|3[0-1])\n",
      "1990-09-12 : 0 ~ 10 에 1990-09-12 가 존재\n",
      "2020-12-31 : 0 ~ 10 에 2020-12-31 가 존재\n",
      "2099-10-32 : 문자열에 ^(19|20)\\d{2}-(0[1-9]|1[0-2])-(0[1-9]|1[0-9]|2[0-9]|3[0-1]) 패턴이 존재하지 않음\n",
      "89-01008   : 문자열에 ^(19|20)\\d{2}-(0[1-9]|1[0-2])-(0[1-9]|1[0-9]|2[0-9]|3[0-1]) 패턴이 존재하지 않음\n",
      "^(19|20)\\d{2}-(0[1-9]|1[0-2])-(0[1-9]|[12][0-9]|3[0-1])$\n",
      "1990-09-12 : 0 ~ 10 에 1990-09-12 가 존재\n",
      "2020-12-31 : 0 ~ 10 에 2020-12-31 가 존재\n",
      "2099-10-32 : 문자열에 ^(19|20)\\d{2}-(0[1-9]|1[0-2])-(0[1-9]|[12][0-9]|3[0-1])$ 패턴이 존재하지 않음\n",
      "89-01008   : 문자열에 ^(19|20)\\d{2}-(0[1-9]|1[0-2])-(0[1-9]|[12][0-9]|3[0-1])$ 패턴이 존재하지 않음\n"
     ]
    }
   ],
   "source": [
    "printMatch(r'^(19|20)\\d{2}-(0[1-9]|1[0-2])-(0[1-9]|1[0-9]|2[0-9]|3[0-1])', data) # 내가 만든 답\n",
    "printMatch(r'^(19|20)\\d{2}-(0[1-9]|1[0-2])-(0[1-9]|[12][0-9]|3[0-1])$', data) #  정답"
   ]
  },
  {
   "cell_type": "markdown",
   "id": "9f56dc57",
   "metadata": {},
   "source": [
    "## 3 메일 주소 찾기\n",
    "\n",
    "- @ 기호 앞은 '.' 을 포함한 워드문자로 구성된 문자열이 올 수 있다.\n",
    "- 단, '.' 이 단독으로 존재하거나, '.'이 첫글자여서는 안된다\n",
    "- @기호\n",
    "- @기호 뒤는 워드문자가 1개 이상온다\n",
    " - 위의 1개 이상의 워드 문자 뒤로'.' 으로 시작하고 워드문자 1개 이상으로 구성된 문자열이 1회 또는 2회 반복되어 사용된다.\n",
    " ('.'이 1, 2회 사용되어야 함.)\n",
    "\n"
   ]
  },
  {
   "cell_type": "code",
   "execution_count": 263,
   "id": "8cab5d07",
   "metadata": {},
   "outputs": [
    {
     "name": "stdout",
     "output_type": "stream",
     "text": [
      "\\w+@\\w+.{1,2}\\w+$\n",
      "abc@naver.com               : 0 ~ 13 에 abc@naver.com 가 존재\n",
      "kbs.kim@email.or.kr         : 문자열에 \\w+@\\w+.{1,2}\\w+$ 패턴이 존재하지 않음\n",
      "all.for.you.11@shopping.net : 12 ~ 27 에 11@shopping.net 가 존재\n",
      ".@naver.com                 : 문자열에 \\w+@\\w+.{1,2}\\w+$ 패턴이 존재하지 않음\n",
      "abcdef@abc                  : 0 ~ 10 에 abcdef@abc 가 존재\n",
      "3#@abc.co.kr                : 문자열에 \\w+@\\w+.{1,2}\\w+$ 패턴이 존재하지 않음\n"
     ]
    }
   ],
   "source": [
    "import re\n",
    "data = ('abc@naver.com', 'kbs.kim@email.or.kr', 'all.for.you.11@shopping.net', '.@naver.com', 'abcdef@abc', '3#@abc.co.kr')\n",
    "printMatch(r'\\w+@\\w+.{1,2}\\w+$', data)"
   ]
  },
  {
   "cell_type": "code",
   "execution_count": 267,
   "id": "a476c992",
   "metadata": {},
   "outputs": [
    {
     "name": "stdout",
     "output_type": "stream",
     "text": [
      "^\\w+[\\.\\w]*@\\w+(\\.\\w+){1,2}$\n",
      "abc@naver.com               : 0 ~ 13 에 abc@naver.com 가 존재\n",
      "kbs.kim@email.or.kr         : 0 ~ 19 에 kbs.kim@email.or.kr 가 존재\n",
      "all.for.you.11@shopping.net : 0 ~ 27 에 all.for.you.11@shopping.net 가 존재\n",
      ".@naver.com                 : 문자열에 ^\\w+[\\.\\w]*@\\w+(\\.\\w+){1,2}$ 패턴이 존재하지 않음\n",
      "abcdef@abc                  : 문자열에 ^\\w+[\\.\\w]*@\\w+(\\.\\w+){1,2}$ 패턴이 존재하지 않음\n",
      "3#@abc.co.kr                : 문자열에 ^\\w+[\\.\\w]*@\\w+(\\.\\w+){1,2}$ 패턴이 존재하지 않음\n"
     ]
    }
   ],
   "source": [
    "printMatch(r'^\\w+[\\.\\w]*@\\w+(\\.\\w+){1,2}$', data)"
   ]
  },
  {
   "cell_type": "markdown",
   "id": "eb035122",
   "metadata": {},
   "source": [
    "## 4 한글, 콤마(,) 및 소수 부분 제거"
   ]
  },
  {
   "cell_type": "code",
   "execution_count": 281,
   "id": "56529855",
   "metadata": {},
   "outputs": [
    {
     "name": "stdout",
     "output_type": "stream",
     "text": [
      "1,234,567원 => 1234567\n",
      "200,000.00달러 => 200000\n",
      "1,234.15엔 => 1234\n"
     ]
    }
   ],
   "source": [
    "import re\n",
    "\n",
    "pt = re.compile(r'')\n",
    "def removeThings(data):\n",
    "    pt = re.compile(r'[가-힣]+|\\,|\\.\\d+')\n",
    "    data = re.sub(pt, '', data)\n",
    "    return data\n",
    "\n",
    "datalist= ('1,234,567원', '200,000.00달러', '1,234.15엔')\n",
    "for x in datalist:\n",
    "    r = removeThings(x)\n",
    "    print(f'{x} => {r}')\n",
    "          \n",
    "          "
   ]
  },
  {
   "cell_type": "markdown",
   "id": "281a8c3e",
   "metadata": {},
   "source": [
    "## 5 주민등록 번호 유효성 검사 및 암호 처리\n",
    "\n",
    "- 숫자 6자 - 숫자 7자로 구성\n",
    "- 앞의 6글자 중 3, 4번째는 01-12, 5,6 번째는 01-31의 숫자, 뒤의 7글자 중 1번째는 1~4중 한가지 이어야 함\n",
    "- 유효한 주민등록번호인 경우 뒤의 7자를 *로 치환하여 출력하도록 한다\n",
    "- 유효하지 않은 주민 등록 번호인 경우 'xx Is NOT an id' 를 출력한다.\n",
    "- 다음의 입력과 출력예시를 참조한다.\n",
    "\n",
    "- 881103-1231233 => 881103-*******\n",
    "- 891312-1234124 = > 891312-1234124 is not an id\n",
    "- 1990-12-28 => 1990-12-28 is not an id"
   ]
  },
  {
   "cell_type": "code",
   "execution_count": 291,
   "id": "eed97e27",
   "metadata": {},
   "outputs": [
    {
     "name": "stdout",
     "output_type": "stream",
     "text": [
      "881103-1231233 => 881103-*******\n",
      "891312-1234124 => 891312-1234124 is not an id\n",
      "1990-12-28 => 1990-12-28 is not an id\n"
     ]
    }
   ],
   "source": [
    "import re\n",
    "\n",
    "def idcheck(data):\n",
    "    pt = re.compile(r'^\\d{2}(0[1-9]|1[0-2])(0[1-9]|[12][0-9]|3[01])-[1-4]\\d{6}$')\n",
    "    r= re.search(pt, data)\n",
    "    \n",
    "    if r:\n",
    "        return re.sub('\\d{7}', '*'*7, r.group())\n",
    "    \n",
    "    else:\n",
    "        rslt = f'{data} is not an id'\n",
    "        return rslt\n",
    "\n",
    "datalist = ('881103-1231233', '891312-1234124', '1990-12-28')\n",
    "for x in datalist:\n",
    "    r = idcheck(x)\n",
    "    print(f'{x} => {r}')"
   ]
  },
  {
   "cell_type": "code",
   "execution_count": null,
   "id": "48c6929b",
   "metadata": {},
   "outputs": [],
   "source": []
  }
 ],
 "metadata": {
  "kernelspec": {
   "display_name": "Python 3",
   "language": "python",
   "name": "python3"
  },
  "language_info": {
   "codemirror_mode": {
    "name": "ipython",
    "version": 3
   },
   "file_extension": ".py",
   "mimetype": "text/x-python",
   "name": "python",
   "nbconvert_exporter": "python",
   "pygments_lexer": "ipython3",
   "version": "3.9.7"
  }
 },
 "nbformat": 4,
 "nbformat_minor": 5
}
