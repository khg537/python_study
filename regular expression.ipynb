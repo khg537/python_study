{
 "cells": [
  {
   "cell_type": "code",
   "execution_count": 3,
   "id": "8c23aed1",
   "metadata": {},
   "outputs": [],
   "source": [
    "import re\n"
   ]
  },
  {
   "cell_type": "code",
   "execution_count": 13,
   "id": "a9ccd7e3",
   "metadata": {},
   "outputs": [],
   "source": [
    "p = re.compile('[a-z]+')"
   ]
  },
  {
   "cell_type": "code",
   "execution_count": 16,
   "id": "c5015cb2",
   "metadata": {},
   "outputs": [
    {
     "data": {
      "text/plain": [
       "<re.Match object; span=(0, 6), match='python'>"
      ]
     },
     "execution_count": 16,
     "metadata": {},
     "output_type": "execute_result"
    }
   ],
   "source": [
    "m = p.match('python')\n",
    "m"
   ]
  },
  {
   "cell_type": "code",
   "execution_count": 18,
   "id": "bf94a916",
   "metadata": {},
   "outputs": [
    {
     "data": {
      "text/plain": [
       "<re.Match object; span=(2, 8), match='python'>"
      ]
     },
     "execution_count": 18,
     "metadata": {},
     "output_type": "execute_result"
    }
   ],
   "source": [
    "m= p.search('3 python')\n",
    "m"
   ]
  },
  {
   "cell_type": "code",
   "execution_count": 19,
   "id": "ea8e5904",
   "metadata": {},
   "outputs": [
    {
     "data": {
      "text/plain": [
       "['life', 'is', 'too', 'short']"
      ]
     },
     "execution_count": 19,
     "metadata": {},
     "output_type": "execute_result"
    }
   ],
   "source": [
    "m = p.findall('life is too short')\n",
    "m"
   ]
  },
  {
   "cell_type": "code",
   "execution_count": 23,
   "id": "7810af55",
   "metadata": {},
   "outputs": [
    {
     "data": {
      "text/plain": [
       "<callable_iterator at 0x29338641df0>"
      ]
     },
     "execution_count": 23,
     "metadata": {},
     "output_type": "execute_result"
    }
   ],
   "source": [
    "m = p.finditer('life is too short')\n",
    "m"
   ]
  },
  {
   "cell_type": "code",
   "execution_count": 24,
   "id": "1024bb49",
   "metadata": {},
   "outputs": [
    {
     "name": "stdout",
     "output_type": "stream",
     "text": [
      "<re.Match object; span=(0, 4), match='life'>\n",
      "<re.Match object; span=(5, 7), match='is'>\n",
      "<re.Match object; span=(8, 11), match='too'>\n",
      "<re.Match object; span=(12, 17), match='short'>\n"
     ]
    }
   ],
   "source": [
    "for r in m:\n",
    "    print(r)"
   ]
  },
  {
   "cell_type": "code",
   "execution_count": 25,
   "id": "1008e006",
   "metadata": {},
   "outputs": [],
   "source": [
    "#dotall, s\n",
    "p= re.compile('a.b')\n",
    "m = p.match('a\\nb')\n",
    "m"
   ]
  },
  {
   "cell_type": "code",
   "execution_count": 26,
   "id": "a5f2af6d",
   "metadata": {},
   "outputs": [
    {
     "data": {
      "text/plain": [
       "<re.Match object; span=(0, 3), match='a\\nb'>"
      ]
     },
     "execution_count": 26,
     "metadata": {},
     "output_type": "execute_result"
    }
   ],
   "source": [
    "p = re.compile('a.b', re.DOTALL)\n",
    "m = p.match('a\\nb')\n",
    "m"
   ]
  },
  {
   "cell_type": "code",
   "execution_count": 27,
   "id": "e0d26371",
   "metadata": {},
   "outputs": [
    {
     "data": {
      "text/plain": [
       "<re.Match object; span=(0, 3), match='a\\nb'>"
      ]
     },
     "execution_count": 27,
     "metadata": {},
     "output_type": "execute_result"
    }
   ],
   "source": [
    "p = re.compile('a.b', re.S)\n",
    "m = p.match('a\\nb')\n",
    "m"
   ]
  },
  {
   "cell_type": "code",
   "execution_count": 28,
   "id": "e7d53b8f",
   "metadata": {},
   "outputs": [],
   "source": [
    "#IGNORECASE, I\n"
   ]
  },
  {
   "cell_type": "code",
   "execution_count": 30,
   "id": "24019406",
   "metadata": {},
   "outputs": [
    {
     "data": {
      "text/plain": [
       "<re.Match object; span=(0, 1), match='p'>"
      ]
     },
     "execution_count": 30,
     "metadata": {},
     "output_type": "execute_result"
    }
   ],
   "source": [
    "p = re.compile('[a-z]')\n",
    "p.match('python 3')"
   ]
  },
  {
   "cell_type": "code",
   "execution_count": 32,
   "id": "5bb0ebd3",
   "metadata": {},
   "outputs": [
    {
     "data": {
      "text/plain": [
       "<re.Match object; span=(0, 1), match='P'>"
      ]
     },
     "execution_count": 32,
     "metadata": {},
     "output_type": "execute_result"
    }
   ],
   "source": [
    "p = re.compile('[a-z]', re.I)\n",
    "p.match('PYTHON 3')"
   ]
  },
  {
   "cell_type": "code",
   "execution_count": 33,
   "id": "035fce48",
   "metadata": {},
   "outputs": [],
   "source": [
    "#MULTILINE, M"
   ]
  },
  {
   "cell_type": "code",
   "execution_count": 34,
   "id": "0be63473",
   "metadata": {},
   "outputs": [
    {
     "data": {
      "text/plain": [
       "['python one']"
      ]
     },
     "execution_count": 34,
     "metadata": {},
     "output_type": "execute_result"
    }
   ],
   "source": [
    "p = re.compile(\"^python\\s\\w+\")\n",
    "data = \"\"\"python one\n",
    "life is too short\n",
    "python two\n",
    "you need python\n",
    "python three\"\"\"\n",
    "\n",
    "p.findall(data)"
   ]
  },
  {
   "cell_type": "code",
   "execution_count": 35,
   "id": "9fa9f44c",
   "metadata": {},
   "outputs": [
    {
     "data": {
      "text/plain": [
       "['python one', 'python two', 'python three']"
      ]
     },
     "execution_count": 35,
     "metadata": {},
     "output_type": "execute_result"
    }
   ],
   "source": [
    "p = re.compile(\"^python\\s\\w+\", re.M)\n",
    "p.findall(data)"
   ]
  },
  {
   "cell_type": "code",
   "execution_count": 37,
   "id": "4470a813",
   "metadata": {},
   "outputs": [
    {
     "data": {
      "text/plain": [
       "<re.Match object; span=(0, 4), match='Life'>"
      ]
     },
     "execution_count": 37,
     "metadata": {},
     "output_type": "execute_result"
    }
   ],
   "source": [
    "#메타문자 ^(시작)\n",
    "re.search('^Life', \"Life is too short\")\n"
   ]
  },
  {
   "cell_type": "code",
   "execution_count": 38,
   "id": "827b2cc5",
   "metadata": {},
   "outputs": [],
   "source": [
    "re.search('^Life', \"My Life\")"
   ]
  },
  {
   "cell_type": "code",
   "execution_count": 39,
   "id": "21e07c3b",
   "metadata": {},
   "outputs": [],
   "source": [
    "#메타문자$(끝)"
   ]
  },
  {
   "cell_type": "code",
   "execution_count": 40,
   "id": "0c8e08d7",
   "metadata": {},
   "outputs": [
    {
     "data": {
      "text/plain": [
       "<re.Match object; span=(12, 17), match='short'>"
      ]
     },
     "execution_count": 40,
     "metadata": {},
     "output_type": "execute_result"
    }
   ],
   "source": [
    "re.search('short$', 'Life is too short')"
   ]
  },
  {
   "cell_type": "code",
   "execution_count": 42,
   "id": "bf600055",
   "metadata": {},
   "outputs": [],
   "source": [
    "re.search('short$', 'Life is too short, you need python')"
   ]
  },
  {
   "cell_type": "code",
   "execution_count": 43,
   "id": "426c6a2c",
   "metadata": {},
   "outputs": [],
   "source": [
    "#메타문자 \\b (공맥)"
   ]
  },
  {
   "cell_type": "code",
   "execution_count": 44,
   "id": "85d4de85",
   "metadata": {},
   "outputs": [
    {
     "data": {
      "text/plain": [
       "<re.Match object; span=(3, 8), match='class'>"
      ]
     },
     "execution_count": 44,
     "metadata": {},
     "output_type": "execute_result"
    }
   ],
   "source": [
    "p = re.compile(r'\\bclass\\b')\n",
    "p.search('no class at all')"
   ]
  },
  {
   "cell_type": "code",
   "execution_count": 45,
   "id": "3b05e313",
   "metadata": {},
   "outputs": [],
   "source": [
    "p.search('the declassified algorithm')"
   ]
  },
  {
   "cell_type": "code",
   "execution_count": 46,
   "id": "dcb24884",
   "metadata": {},
   "outputs": [],
   "source": [
    "p.search('one subclass is')"
   ]
  },
  {
   "cell_type": "code",
   "execution_count": 47,
   "id": "8b031af2",
   "metadata": {},
   "outputs": [],
   "source": [
    "#그루핑()\n"
   ]
  },
  {
   "cell_type": "code",
   "execution_count": 48,
   "id": "24fa3ad4",
   "metadata": {},
   "outputs": [],
   "source": [
    "p = re.compile('(ABC)+')\n",
    "m = p.search('ABCABCABC OK?')"
   ]
  },
  {
   "cell_type": "code",
   "execution_count": 49,
   "id": "a3241271",
   "metadata": {},
   "outputs": [
    {
     "data": {
      "text/plain": [
       "<re.Match object; span=(0, 9), match='ABCABCABC'>"
      ]
     },
     "execution_count": 49,
     "metadata": {},
     "output_type": "execute_result"
    }
   ],
   "source": [
    "m"
   ]
  },
  {
   "cell_type": "code",
   "execution_count": 50,
   "id": "c8d30ff5",
   "metadata": {},
   "outputs": [
    {
     "data": {
      "text/plain": [
       "'ABCABCABC'"
      ]
     },
     "execution_count": 50,
     "metadata": {},
     "output_type": "execute_result"
    }
   ],
   "source": [
    "m.group()"
   ]
  },
  {
   "cell_type": "code",
   "execution_count": 53,
   "id": "cbdf59ac",
   "metadata": {},
   "outputs": [],
   "source": [
    "p = re.compile(r\"(\\w+)\\s+\\d+[-]\\d+[-]\\d+\")\n",
    "               "
   ]
  },
  {
   "cell_type": "code",
   "execution_count": 55,
   "id": "cddcf1a2",
   "metadata": {},
   "outputs": [
    {
     "data": {
      "text/plain": [
       "<re.Match object; span=(0, 18), match='park 010-1234-1245'>"
      ]
     },
     "execution_count": 55,
     "metadata": {},
     "output_type": "execute_result"
    }
   ],
   "source": [
    "m = p.search(\"park 010-1234-1245\")\n",
    "m"
   ]
  },
  {
   "cell_type": "code",
   "execution_count": 56,
   "id": "ba7aae6a",
   "metadata": {},
   "outputs": [
    {
     "data": {
      "text/plain": [
       "'park'"
      ]
     },
     "execution_count": 56,
     "metadata": {},
     "output_type": "execute_result"
    }
   ],
   "source": [
    "m.group(1)"
   ]
  },
  {
   "cell_type": "code",
   "execution_count": 60,
   "id": "9ec13a74",
   "metadata": {},
   "outputs": [
    {
     "data": {
      "text/plain": [
       "<re.Match object; span=(0, 5), match='http:'>"
      ]
     },
     "execution_count": 60,
     "metadata": {},
     "output_type": "execute_result"
    }
   ],
   "source": [
    "#전방탐색 : 긍정형(?=)  => 검색에는 포함되나 결과에는 포함되지 않음\n",
    "p = re.compile(r\".+:\")\n",
    "m = p.search(\"http://google.com\")\n",
    "m"
   ]
  },
  {
   "cell_type": "code",
   "execution_count": 61,
   "id": "7b2501b9",
   "metadata": {},
   "outputs": [
    {
     "name": "stdout",
     "output_type": "stream",
     "text": [
      "http:\n"
     ]
    }
   ],
   "source": [
    "print(m.group())"
   ]
  },
  {
   "cell_type": "code",
   "execution_count": 63,
   "id": "d60731f3",
   "metadata": {},
   "outputs": [
    {
     "data": {
      "text/plain": [
       "<re.Match object; span=(0, 4), match='http'>"
      ]
     },
     "execution_count": 63,
     "metadata": {},
     "output_type": "execute_result"
    }
   ],
   "source": [
    "p = re.compile(r'.+(?=:)')\n",
    "m = p.search(\"http://google.com\")\n",
    "m               "
   ]
  },
  {
   "cell_type": "code",
   "execution_count": 66,
   "id": "91e6be1f",
   "metadata": {},
   "outputs": [
    {
     "data": {
      "text/plain": [
       "['autoexec.exe', 'autoexec.jpg']"
      ]
     },
     "execution_count": 66,
     "metadata": {},
     "output_type": "execute_result"
    }
   ],
   "source": [
    "#전방탐색: 부정형 (?!)\n",
    "p = re.compile(\".*[.](?!bat$).*$\", re.M)\n",
    "l = p.findall(\"\"\"'\n",
    "autoexec.exe\n",
    "autoexec.bat\n",
    "autoexec.jpg\n",
    "             \"\"\")\n",
    "l\n"
   ]
  },
  {
   "cell_type": "code",
   "execution_count": 67,
   "id": "467e7b93",
   "metadata": {},
   "outputs": [
    {
     "data": {
      "text/plain": [
       "['autoexec.jpg']"
      ]
     },
     "execution_count": 67,
     "metadata": {},
     "output_type": "execute_result"
    }
   ],
   "source": [
    "p = re.compile(\".*[.](?!bat$|exe$).*$\", re.M)\n",
    "l = p.findall(\"\"\"'\n",
    "autoexec.exe\n",
    "autoexec.bat\n",
    "autoexec.jpg\n",
    "             \"\"\")\n",
    "l"
   ]
  },
  {
   "cell_type": "code",
   "execution_count": 68,
   "id": "37ae9ef2",
   "metadata": {},
   "outputs": [
    {
     "data": {
      "text/plain": [
       "'colour socks and colour shoes'"
      ]
     },
     "execution_count": 68,
     "metadata": {},
     "output_type": "execute_result"
    }
   ],
   "source": [
    "#문자열 바꾸기 sub\n",
    "p = re.compile('(blue|white|red)')\n",
    "p.sub('colour', 'blue socks and red shoes')"
   ]
  },
  {
   "cell_type": "code",
   "execution_count": 70,
   "id": "e7becad2",
   "metadata": {},
   "outputs": [
    {
     "data": {
      "text/plain": [
       "'<html><head><title>Title</title>'"
      ]
     },
     "execution_count": 70,
     "metadata": {},
     "output_type": "execute_result"
    }
   ],
   "source": [
    "#Greedy vs Non-Greedy\n",
    "s = '<html><head><title>Title</title>'\n",
    "re.match('<.*>', s).group() #Greedy\n"
   ]
  },
  {
   "cell_type": "code",
   "execution_count": 71,
   "id": "d7da4914",
   "metadata": {},
   "outputs": [
    {
     "data": {
      "text/plain": [
       "'<html>'"
      ]
     },
     "execution_count": 71,
     "metadata": {},
     "output_type": "execute_result"
    }
   ],
   "source": [
    "re.match('<.*?>', s).group()# Non Greedy : 최소한 반복"
   ]
  },
  {
   "cell_type": "code",
   "execution_count": null,
   "id": "9af3e8fa",
   "metadata": {},
   "outputs": [],
   "source": []
  }
 ],
 "metadata": {
  "kernelspec": {
   "display_name": "Python 3",
   "language": "python",
   "name": "python3"
  },
  "language_info": {
   "codemirror_mode": {
    "name": "ipython",
    "version": 3
   },
   "file_extension": ".py",
   "mimetype": "text/x-python",
   "name": "python",
   "nbconvert_exporter": "python",
   "pygments_lexer": "ipython3",
   "version": "3.9.7"
  }
 },
 "nbformat": 4,
 "nbformat_minor": 5
}
