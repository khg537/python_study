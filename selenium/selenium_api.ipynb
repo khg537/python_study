{
 "cells": [
  {
   "cell_type": "code",
   "execution_count": 14,
   "id": "58259d4f",
   "metadata": {},
   "outputs": [],
   "source": [
    "from selenium  import webdriver"
   ]
  },
  {
   "cell_type": "code",
   "execution_count": 15,
   "id": "17a3f459",
   "metadata": {},
   "outputs": [],
   "source": [
    "driver = webdriver.Chrome()\n",
    "driver.get(\"https://www.naver.com\")"
   ]
  },
  {
   "cell_type": "code",
   "execution_count": 16,
   "id": "7b047cfc",
   "metadata": {},
   "outputs": [
    {
     "data": {
      "text/plain": [
       "<selenium.webdriver.remote.webelement.WebElement (session=\"774adc0a7992a1d881776977b1b334ff\", element=\"cc6eead2-319c-47e3-9832-39f31f79978a\")>"
      ]
     },
     "execution_count": 16,
     "metadata": {},
     "output_type": "execute_result"
    }
   ],
   "source": [
    "driver.find_element_by_class_name(\"blind\")"
   ]
  },
  {
   "cell_type": "code",
   "execution_count": 20,
   "id": "033051ba",
   "metadata": {},
   "outputs": [
    {
     "data": {
      "text/plain": [
       "[<selenium.webdriver.remote.webelement.WebElement (session=\"774adc0a7992a1d881776977b1b334ff\", element=\"0ad35bcb-b617-45b4-b91f-b5589fd84274\")>,\n",
       " <selenium.webdriver.remote.webelement.WebElement (session=\"774adc0a7992a1d881776977b1b334ff\", element=\"89f67186-793b-438b-900a-5148cbd8313f\")>,\n",
       " <selenium.webdriver.remote.webelement.WebElement (session=\"774adc0a7992a1d881776977b1b334ff\", element=\"d35105a4-3e16-4dae-8c23-4ea65803efb6\")>,\n",
       " <selenium.webdriver.remote.webelement.WebElement (session=\"774adc0a7992a1d881776977b1b334ff\", element=\"d14961ad-237e-4013-acba-f0c20b8864eb\")>,\n",
       " <selenium.webdriver.remote.webelement.WebElement (session=\"774adc0a7992a1d881776977b1b334ff\", element=\"47b3f517-ba51-441f-8e75-3bfd1a566377\")>,\n",
       " <selenium.webdriver.remote.webelement.WebElement (session=\"774adc0a7992a1d881776977b1b334ff\", element=\"4f9a34cc-34a5-41c9-8b79-68f610cb4411\")>,\n",
       " <selenium.webdriver.remote.webelement.WebElement (session=\"774adc0a7992a1d881776977b1b334ff\", element=\"102d715d-add3-42c2-82f3-3f3dba110083\")>,\n",
       " <selenium.webdriver.remote.webelement.WebElement (session=\"774adc0a7992a1d881776977b1b334ff\", element=\"8c5512f6-0987-4e34-ab58-087e824a522d\")>,\n",
       " <selenium.webdriver.remote.webelement.WebElement (session=\"774adc0a7992a1d881776977b1b334ff\", element=\"92265d66-84cc-4ce0-9860-c75e22208dbe\")>,\n",
       " <selenium.webdriver.remote.webelement.WebElement (session=\"774adc0a7992a1d881776977b1b334ff\", element=\"ec6f924c-3659-4d69-ada3-ddf30488e4fb\")>,\n",
       " <selenium.webdriver.remote.webelement.WebElement (session=\"774adc0a7992a1d881776977b1b334ff\", element=\"d20fe98c-a646-4b92-b859-a8328366310a\")>,\n",
       " <selenium.webdriver.remote.webelement.WebElement (session=\"774adc0a7992a1d881776977b1b334ff\", element=\"0d117576-d2c0-42ad-951e-7743f77e30c8\")>,\n",
       " <selenium.webdriver.remote.webelement.WebElement (session=\"774adc0a7992a1d881776977b1b334ff\", element=\"18e33912-ca5d-47cd-99ec-0a523cae3877\")>,\n",
       " <selenium.webdriver.remote.webelement.WebElement (session=\"774adc0a7992a1d881776977b1b334ff\", element=\"aec8d1b8-fc44-4a8d-aeac-e15950e8a605\")>,\n",
       " <selenium.webdriver.remote.webelement.WebElement (session=\"774adc0a7992a1d881776977b1b334ff\", element=\"88cf1307-edbf-4245-8201-3710381cc84c\")>,\n",
       " <selenium.webdriver.remote.webelement.WebElement (session=\"774adc0a7992a1d881776977b1b334ff\", element=\"2411259b-0a1f-4e23-98be-e8d2d6589482\")>]"
      ]
     },
     "execution_count": 20,
     "metadata": {},
     "output_type": "execute_result"
    }
   ],
   "source": [
    "driver.find_elements_by_css_selector(\"ul.list_nav > li.nav_item\")"
   ]
  },
  {
   "cell_type": "code",
   "execution_count": 23,
   "id": "9fd22068",
   "metadata": {},
   "outputs": [],
   "source": [
    "e=driver.find_element_by_css_selector(\"div[data-clk-prefix='top']\")"
   ]
  },
  {
   "cell_type": "code",
   "execution_count": 24,
   "id": "87d96c09",
   "metadata": {},
   "outputs": [
    {
     "data": {
      "text/plain": [
       "selenium.webdriver.remote.webelement.WebElement"
      ]
     },
     "execution_count": 24,
     "metadata": {},
     "output_type": "execute_result"
    }
   ],
   "source": [
    "type(e)"
   ]
  },
  {
   "cell_type": "code",
   "execution_count": null,
   "id": "a1be0bce",
   "metadata": {},
   "outputs": [],
   "source": [
    "driver."
   ]
  }
 ],
 "metadata": {
  "kernelspec": {
   "display_name": "Python 3",
   "language": "python",
   "name": "python3"
  },
  "language_info": {
   "codemirror_mode": {
    "name": "ipython",
    "version": 3
   },
   "file_extension": ".py",
   "mimetype": "text/x-python",
   "name": "python",
   "nbconvert_exporter": "python",
   "pygments_lexer": "ipython3",
   "version": "3.9.7"
  }
 },
 "nbformat": 4,
 "nbformat_minor": 5
}
